{
 "cells": [
  {
   "cell_type": "markdown",
   "metadata": {},
   "source": [
    "1 m^3 = 1000 kg\n",
    "1 h = 60 min\n",
    "1 min = 60 s\n",
    "1h = 3600 s"
   ]
  },
  {
   "cell_type": "code",
   "execution_count": 23,
   "metadata": {},
   "outputs": [
    {
     "name": "stdout",
     "output_type": "stream",
     "text": [
      "a. 6.3e-02\n",
      "b. 4.2e-03\n"
     ]
    }
   ],
   "source": [
    "capacidade_succao_ar = 170 # m^3/h\n",
    "ro_ar = 1.33 # kg/m^3\n",
    "\n",
    "ro_h20 = 1000 # kg/m^3\n",
    "capacidade_succao_h20 = 0.015 # m^3/h\n",
    "\n",
    "print(f\"a. {capacidade_succao_ar * ro_ar / (60 * 60):.1e}\")\n",
    "print(f\"b. {capacidade_succao_h20 * ro_h20 / (60 * 60):.1e}\")\n",
    "# print(f\"c. {}\")"
   ]
  },
  {
   "cell_type": "code",
   "execution_count": 27,
   "metadata": {},
   "outputs": [
    {
     "name": "stdout",
     "output_type": "stream",
     "text": [
      "Pessão relativa: 20.0 KPa\n",
      "Pressão absoluta: 121.0 KPa\n"
     ]
    }
   ],
   "source": [
    "h = 2 # m\n",
    "pressao_relativa = ro_h20 * 10 * h / 1000 # KPa\n",
    "print(f\"Pessão relativa: {pressao_relativa} KPa\")\n",
    "pressao_absoluta = pressao_relativa + 101\n",
    "print(f\"Pressão absoluta: {pressao_absoluta} KPa\")"
   ]
  }
 ],
 "metadata": {
  "kernelspec": {
   "display_name": "Python 3",
   "language": "python",
   "name": "python3"
  },
  "language_info": {
   "codemirror_mode": {
    "name": "ipython",
    "version": 3
   },
   "file_extension": ".py",
   "mimetype": "text/x-python",
   "name": "python",
   "nbconvert_exporter": "python",
   "pygments_lexer": "ipython3",
   "version": "3.12.4"
  }
 },
 "nbformat": 4,
 "nbformat_minor": 2
}
