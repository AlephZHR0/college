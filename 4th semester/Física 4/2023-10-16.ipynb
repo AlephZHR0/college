{
 "cells": [
  {
   "cell_type": "markdown",
   "metadata": {},
   "source": [
    "2. O raio de um fio de nicromo de bitola 22 é de 0,320 mm.\n",
    "   1. Calcule a resistência por unidade de comprimento deste fio\n",
    "   2. Se uma diferença de potencial de 10,0 V for mantida entre as extremidades de um fio de nicromo de 1,00 m de comprimento, qual será a corrente no fio?"
   ]
  },
  {
   "cell_type": "code",
   "execution_count": null,
   "metadata": {},
   "outputs": [],
   "source": [
    "from scipy import constants\n",
    "\n",
    "Area = 3.31e-6 # m^2\n",
    "Corrente = 10.0 # A\n",
    "M = massa_molar_cobre = 63.5 # g/mol\n",
    "M = M /100 # g/mol -> kg/mol\n",
    "MU = massa_especifica = d_cobre = 8.92 # g/cm^3\n",
    "MU = MU * 1000 #  g/cm^3 -> kg/m^3\n",
    "\n",
    "Volume = massa_molar_cobre / massa_especifica # (densidade)\n",
    "\n",
    "n = constants.Avogadro / Volume\n",
    "n = constants.Avogadro * massa_especifica / massa_molar_cobre\n",
    "q = constants.e\n",
    "\n",
    "# I_med = n * q * vd * Area\n",
    "\n",
    "vd = (Corrente * M) / (constants.Avogadro * MU * q * Area)\n",
    "print(f\"{vd:.2e}\")"
   ]
  },
  {
   "cell_type": "code",
   "execution_count": 1,
   "metadata": {},
   "outputs": [
    {
     "data": {
      "text/plain": [
       "16"
      ]
     },
     "execution_count": 1,
     "metadata": {},
     "output_type": "execute_result"
    }
   ],
   "source": []
  },
  {
   "cell_type": "code",
   "execution_count": null,
   "metadata": {},
   "outputs": [],
   "source": []
  }
 ],
 "metadata": {
  "kernelspec": {
   "display_name": "Python 3",
   "language": "python",
   "name": "python3"
  },
  "language_info": {
   "codemirror_mode": {
    "name": "ipython",
    "version": 3
   },
   "file_extension": ".py",
   "mimetype": "text/x-python",
   "name": "python",
   "nbconvert_exporter": "python",
   "pygments_lexer": "ipython3",
   "version": "3.12.0"
  }
 },
 "nbformat": 4,
 "nbformat_minor": 2
}
