{
 "cells": [
  {
   "cell_type": "markdown",
   "metadata": {},
   "source": [
    "# Uma esfera de raio $R=50,0\\ cm$, está eletrizada com densidade volumétrica $\\rho=a+br^2$ em unidades do SI. Sabendo-se que $a=0,0300\\ [SI]$, $b=1,00\\ [SI]$ e que “$r$” é a distância radial a partir do centro da esfera, determinar:"
   ]
  },
  {
   "cell_type": "markdown",
   "metadata": {},
   "source": [
    "## A carga da esfera;"
   ]
  },
  {
   "cell_type": "code",
   "execution_count": 1,
   "metadata": {},
   "outputs": [
    {
     "name": "stdout",
     "output_type": "stream",
     "text": [
      "A carga total é 0.094 C\n"
     ]
    }
   ],
   "source": [
    "from sympy import symbols, integrate\n",
    "from math import pi\n",
    "\n",
    "r = symbols('r')\n",
    "a = 0.03  # [SI]\n",
    "b = 1.0  # [SI]\n",
    "R = 0.5  # raio da esfera em metros\n",
    "\n",
    "# Integração da densidade volumétrica de carga sobre o volume da esfera\n",
    "Q = integrate(4*pi*r**2*(a + b*r**2), (r, 0, R))\n",
    "print(f\"A carga total é {Q:.3f} C\")"
   ]
  },
  {
   "cell_type": "markdown",
   "metadata": {},
   "source": [
    "## A densidade volumétrica média."
   ]
  },
  {
   "cell_type": "code",
   "execution_count": 2,
   "metadata": {},
   "outputs": [
    {
     "name": "stdout",
     "output_type": "stream",
     "text": [
      "A densidade volumétrica média de carga é 0.180 C/m³\n"
     ]
    }
   ],
   "source": [
    "# Volume da esfera\n",
    "V = 4/3*pi*R**3\n",
    "\n",
    "# Densidade volumétrica média de carga\n",
    "rho_media = Q / V\n",
    "print(f\"A densidade volumétrica média de carga é {rho_media:.3f} C/m³\")"
   ]
  },
  {
   "cell_type": "markdown",
   "metadata": {},
   "source": [
    "# A carga total Q é distribuída sobre uma superfície retangular de base $4,00\\ cm$ e altura $8,00\\ cm$. Sabendo-se que a densidade superficial de carga varia com as coordenadas “$x$” e “$y$” de acordo com a expressão $\\sigma=x^2+y^2+2\\ [SI]$, determinar:"
   ]
  },
  {
   "cell_type": "markdown",
   "metadata": {},
   "source": [
    "## A carga total Q da distribuição;"
   ]
  },
  {
   "cell_type": "code",
   "execution_count": 3,
   "metadata": {},
   "outputs": [
    {
     "name": "stdout",
     "output_type": "stream",
     "text": [
      "A carga total é 0.006 C\n"
     ]
    }
   ],
   "source": [
    "from sympy import symbols, integrate\n",
    "\n",
    "x, y = symbols('x y')\n",
    "sigma = x**2 + y**2 + 2\n",
    "\n",
    "# Convert centimeters to meters\n",
    "base = 4 / 100\n",
    "height = 8 / 100\n",
    "\n",
    "# Integrate sigma over the rectangular surface\n",
    "Q = integrate(integrate(sigma, (x, 0, base)), (y, 0, height))\n",
    "print(f\"A carga total é {Q:.3f} C\")"
   ]
  },
  {
   "cell_type": "markdown",
   "metadata": {},
   "source": [
    "## A densidade média de carga do retângulo."
   ]
  },
  {
   "cell_type": "code",
   "execution_count": 4,
   "metadata": {},
   "outputs": [
    {
     "name": "stdout",
     "output_type": "stream",
     "text": [
      "A densidade superficial média de carga é 2.003 C/m²\n"
     ]
    }
   ],
   "source": [
    "# Calculate the total area\n",
    "area = base * height\n",
    "\n",
    "# Calculate the average charge density\n",
    "average_sigma = Q / area\n",
    "print(f\"A densidade superficial média de carga é {average_sigma:.3f} C/m²\")"
   ]
  },
  {
   "cell_type": "markdown",
   "metadata": {},
   "source": [
    "# Três cargas puntiformes $q1=-1,00\\ \\mu C$, $q2=+2,00\\ \\mu C$ e $q3=-3,00\\ \\mu C$, estão situadas respectivamente nos pontos $A=(-2,00;0)$, $B=(2,00;0)$ e $C=(0;yc)$, vértices de um triângulo equilátero. Determine a força que estas cargas exercem sobre a carga puntiforme $q=-1,00\\ \\mu C$, localizada no ponto $O\\ (0;0)$. Sabe-se que as coordenadas dos pontos estão em metros."
   ]
  },
  {
   "cell_type": "code",
   "execution_count": 5,
   "metadata": {},
   "outputs": [
    {
     "name": "stdout",
     "output_type": "stream",
     "text": [
      "A força total na componente x é 2.247e-03 N\n",
      "A força total na componente y é 2.248e-03 N\n",
      "A força total é 3.178e-03 N\n"
     ]
    }
   ],
   "source": [
    "# Initial definitions and imports from the user's code\n",
    "import math\n",
    "\n",
    "\n",
    "def force_vector(q1, q2, p1, p2):\n",
    "    \"\"\"Calculate the electric force vector between two charges.\"\"\"\n",
    "    r = distance(p1, p2)\n",
    "    F_magnitude = k * q1 * q2 / r**2\n",
    "    \n",
    "    # Direction of the force (from p1 to p2 for positive charges, and vice-versa for negative charges)\n",
    "    dx = p2[0] - p1[0]\n",
    "    dy = p2[1] - p1[1]\n",
    "    Fx = F_magnitude * dx / r\n",
    "    Fy = F_magnitude * dy / r\n",
    "    \n",
    "    # If q1 and q2 have the same sign, the force is repulsive. Otherwise, it's attractive.\n",
    "    if q1 * q2 < 0:\n",
    "        Fx = -Fx\n",
    "        Fy = -Fy\n",
    "    \n",
    "    return Fx, Fy\n",
    "\n",
    "\n",
    "# Define the charges and their positions\n",
    "q = -1e-6  # charge at O in C\n",
    "q1 = -1e-6  # charge at A in C\n",
    "q2 = 2e-6  # charge at B in C\n",
    "q3 = -3e-6  # charge at C in C\n",
    "A = (-2, 0)  # position of A in m\n",
    "B = (2, 0)  # position of B in m\n",
    "O = (0, 0)  # position of O in m\n",
    "\n",
    "# Define Coulomb's constant\n",
    "k = 8.99e9  # in N.m^2/C^2\n",
    "\n",
    "# Define the distance function\n",
    "def distance(p1, p2):\n",
    "    return math.sqrt((p1[0] - p2[0])**2 + (p1[1] - p2[1])**2)\n",
    "\n",
    "# Correct the y-coordinate of point C\n",
    "C = (0, 2 * math.sqrt(3))\n",
    "\n",
    "# Calculate the force vectors\n",
    "Fx1, Fy1 = force_vector(q, q1, O, A)\n",
    "Fx2, Fy2 = force_vector(q, q2, O, B)\n",
    "Fx3, Fy3 = force_vector(q, q3, O, C)\n",
    "\n",
    "# Sum up the forces\n",
    "Fx_total = Fx1 + Fx2 + Fx3\n",
    "Fy_total = Fy1 + Fy2 + Fy3\n",
    "F_total_magnitude = math.sqrt(Fx_total**2 + Fy_total**2)\n",
    "\n",
    "print(f\"A força total na componente x é {Fx_total:.3e} N\")\n",
    "print(f\"A força total na componente y é {Fy_total:.3e} N\")\n",
    "print(f\"A força total é {F_total_magnitude:.3e} N\")"
   ]
  },
  {
   "cell_type": "markdown",
   "metadata": {},
   "source": [
    "# Uma semi espira de Raio “$R$”, está eletrizada com densidade linear de carga $\\lambda =k\\sin\\theta$, sendo $k$ uma constante. Determinar a força eletrostática no centro $Q$ do anel onde se localiza a carga puntiforme “$q$”."
   ]
  },
  {
   "cell_type": "code",
   "execution_count": 6,
   "metadata": {},
   "outputs": [
    {
     "name": "stdout",
     "output_type": "stream",
     "text": [
      "A força eletrostática total é determinada pela seguinte equação: k*ke*q*(-Ci(2*pi)/2 + log(pi)/2)/R - k*ke*q*(-log(2)/2 - EulerGamma/2)/R\n",
      "Podemos simplificar a equação para: k*ke*q*(-Ci(2*pi) + EulerGamma + log(2*pi))/(2*R)\n"
     ]
    }
   ],
   "source": [
    "import sympy as sp\n",
    "\n",
    "# Redefining symbols and constants\n",
    "k, R, q, theta, ke = sp.symbols('k R q theta ke', real=True, positive=True)\n",
    "\n",
    "# Densidade de carga linear\n",
    "lambda_ = k * sp.sin(theta)\n",
    "\n",
    "# Elemento de carga\n",
    "dq = lambda_ * R * theta\n",
    "\n",
    "# Força eletrostática devido a dq\n",
    "dF = ke * q * dq / (R*theta)**2 * sp.sin(theta)  # Only the vertical component due to symmetry\n",
    "\n",
    "# Força eletrostática total\n",
    "F_total = sp.integrate(dF, (theta, 0, sp.pi))\n",
    "\n",
    "# Display result\n",
    "resultado = F_total\n",
    "resultado_simplificado = sp.simplify(resultado)\n",
    "print(f\"\"\"A força eletrostática total é determinada pela seguinte equação: {resultado}\n",
    "Podemos simplificar a equação para: {resultado_simplificado}\"\"\")"
   ]
  },
  {
   "cell_type": "markdown",
   "metadata": {},
   "source": [
    "# Uma semi coroa circular de espessura desprezível, de raios interno $r_1=10,0\\ cm$ e externo $r_2=20,0\\ cm$, está eletrizada com densidade superficial de carga $\\sigma=kr\\ [SI]$, sendo $r_1<r<r_2$ e $k$ uma constante de valor numérico $10^{-6}\\ [SI]$. Determinar a intensidade da força eletrostática exercida em uma carga puntiforme $q=5,00\\ \\mu C$, localizada no centro de curvatura da semi coroa circular."
   ]
  },
  {
   "cell_type": "code",
   "execution_count": 7,
   "metadata": {},
   "outputs": [
    {
     "name": "stdout",
     "output_type": "stream",
     "text": [
      "A força exercida sobre a carga é 2.824 N\n"
     ]
    }
   ],
   "source": [
    "from sympy import symbols, integrate\n",
    "from math import pi\n",
    "\n",
    "# Definindo as variáveis\n",
    "r, k_const, q_val, k_val = symbols('r k_const q k', real=True, positive=True)\n",
    "r1_val = 10.0  # cm\n",
    "r2_val = 20.0  # cm\n",
    "k_val_num = 10**-6  # SI\n",
    "q_val_num = 5.00e-6  # C\n",
    "k_const_num = 8.99e9  # N.m^2/C^2\n",
    "\n",
    "# Expressão para dq\n",
    "dq = k_val * r * 2 * pi * r\n",
    "\n",
    "# Expressão para dF usando a Lei de Coulomb\n",
    "dF = (k_const * q_val * dq) / r**2\n",
    "\n",
    "# Ângulo theta\n",
    "cos_theta = r / (r**2)**0.5\n",
    "\n",
    "# Força horizontal devido a um elemento de carga dq\n",
    "dFx = dF * cos_theta\n",
    "\n",
    "# Integração para encontrar a força resultante\n",
    "Fx = integrate(dFx, (r, r1_val, r2_val))\n",
    "\n",
    "# Substituindo os valores numéricos\n",
    "Fx_num = Fx.subs({k_const: k_const_num, q_val: q_val_num, k_val: k_val_num})\n",
    "print(f\"A força exercida sobre a carga é {Fx_num:.3f} N\")"
   ]
  }
 ],
 "metadata": {
  "kernelspec": {
   "display_name": "Python 3",
   "language": "python",
   "name": "python3"
  },
  "language_info": {
   "codemirror_mode": {
    "name": "ipython",
    "version": 3
   },
   "file_extension": ".py",
   "mimetype": "text/x-python",
   "name": "python",
   "nbconvert_exporter": "python",
   "pygments_lexer": "ipython3",
   "version": "3.11.5"
  },
  "orig_nbformat": 4
 },
 "nbformat": 4,
 "nbformat_minor": 2
}
