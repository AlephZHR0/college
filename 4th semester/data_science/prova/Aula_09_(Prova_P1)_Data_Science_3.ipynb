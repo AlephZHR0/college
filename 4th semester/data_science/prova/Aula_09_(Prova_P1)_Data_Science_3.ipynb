{
  "cells": [
    {
      "cell_type": "markdown",
      "metadata": {
        "id": "3k6VcOAuH3wP"
      },
      "source": [
        "# Introdução"
      ]
    },
    {
      "cell_type": "markdown",
      "metadata": {
        "id": "q-phY2ZziQxv"
      },
      "source": [
        "Bem-vindo ao ano de 2912, onde suas habilidades em ciência de dados são necessárias para resolver um mistério cósmico. Recebemos uma transmissão de quatro anos-luz de distância e as coisas não parecem boas.\n",
        "\n",
        "A nave espacial Titanic foi um navio de passageiros interestelar lançado há um mês. Com quase 13.000 passageiros a bordo, o navio iniciou a sua viagem inaugural transportando emigrantes do nosso sistema solar para três exoplanetas recentemente habitáveis que orbitam estrelas próximas.\n",
        "\n",
        "Ao contornar Alfa Centauri a caminho do seu primeiro destino – o tórrido 55 Cancri E – a incauta nave espacial Titanic colidiu com uma anomalia do espaço-tempo escondida dentro de uma nuvem de poeira. Infelizmente, teve um destino semelhante ao do seu homónimo de 1000 anos antes. Embora o navio tenha permanecido intacto, quase metade dos passageiros foram transportados para uma dimensão alternativa!\n",
        "\n",
        "Para ajudar as tripulações de resgate e recuperar os passageiros perdidos, você é desafiado a prever quais passageiros foram transportados pela anomalia usando registros recuperados do sistema de computador danificado da nave espacial.\n",
        "\n",
        "Ajude a salvá-los e mudar a história!"
      ]
    },
    {
      "cell_type": "markdown",
      "metadata": {
        "id": "bogY_IrH4Sn-"
      },
      "source": [
        "## O Dataset\n",
        "\n",
        "*   ```PassageiroId``` – Um ID exclusivo para cada passageiro. Cada ID assume o formato gggg_pp onde gggg indica um grupo com o qual o passageiro está viajando e pp é o seu número dentro do grupo. As pessoas de um grupo são frequentemente membros da família, mas nem sempre.\n",
        "*   ```PlanetaNatal``` - O planeta de onde o passageiro partiu, normalmente o planeta de residência permanente.\n",
        "*   ```CrioSono``` - Indica se o passageiro optou por ser colocado em animação suspensa durante a viagem. Os passageiros em sono criogênico ficam confinados em suas cabines.\n",
        "*   ```Cabine``` - O número da cabine onde o passageiro está hospedado. Assume a forma deck/num/side, onde o lado pode ser P para Bombordo ou S para Estibordo.\n",
        "*   ```Destino``` - O planeta para onde o passageiro irá desembarcar.\n",
        "*   ```Idade``` - A idade do passageiro.\n",
        "*   ```VIP``` - Se o passageiro pagou por serviço VIP especial durante a viagem.\n",
        "*   ```ServicoDeQuarto```, ```PracaAlimentacao```, ```Shopping```, ```Spa```, ```DeckVirtual``` – Valor que o passageiro pagou em cada uma das muitas comodidades de luxo da Nave Espacial Titanic.\n",
        "*   ```Nome``` - O nome e sobrenome do passageiro.\n",
        "*   ```Transportado``` – Se o passageiro foi transportado para outra dimensão. Este é o alvo, a coluna que você está tentando prever."
      ]
    },
    {
      "cell_type": "markdown",
      "metadata": {
        "id": "OLWlmkro6mQw"
      },
      "source": [
        "# Prova P1"
      ]
    },
    {
      "cell_type": "markdown",
      "metadata": {
        "id": "8XYqgBd4i-qh"
      },
      "source": [
        "## Instruções\n",
        "\n",
        "Para cada uma das questões, ***responda na cúlula de código, o código capaz de respondê-las***. Você pode criar células de código adicionais, mas ***o código que mostra a resposta de cada questão deve estar na última célula da questão***. Eu devo ser capaz de rodar cada célula para corrigir a prova.\n",
        "\n"
      ]
    },
    {
      "cell_type": "markdown",
      "metadata": {
        "id": "q5fBRZpk6qs3"
      },
      "source": [
        "## EDA inicial\n",
        "\n",
        "Importe as biliotecas necessárias aqui:"
      ]
    },
    {
      "cell_type": "code",
      "execution_count": 1,
      "metadata": {
        "id": "QSqewVMz9uz3"
      },
      "outputs": [],
      "source": [
        "import numpy as np\n",
        "import pandas as pd\n",
        "import seaborn as sns\n",
        "import matplotlib.pyplot as plt"
      ]
    },
    {
      "cell_type": "markdown",
      "metadata": {
        "id": "12Qc5kiv94TV"
      },
      "source": [
        "### **Questão 1) (0,5 ponto)** Carregue o Dataset e verifique quantas observações (linhas) e features (colunas) existem"
      ]
    },
    {
      "cell_type": "code",
      "execution_count": 16,
      "metadata": {
        "id": "nJE-Q40H66Le"
      },
      "outputs": [
        {
          "name": "stdout",
          "output_type": "stream",
          "text": [
            "Linhas:  8693\n",
            "Colunas:  14\n"
          ]
        }
      ],
      "source": [
        "df = pd.read_csv('train.csv')\n",
        "linhas, colunas = df.shape\n",
        "print('Linhas: ', linhas)\n",
        "print('Colunas: ', colunas)"
      ]
    },
    {
      "cell_type": "markdown",
      "metadata": {
        "id": "HErnkCbQ7v7f"
      },
      "source": [
        "### **Questão 3) (1 ponto)** Verifique se existem valores ausentes em alguma coluna das observações e se existirem, remova-as do `DataFrame`."
      ]
    },
    {
      "cell_type": "code",
      "execution_count": 25,
      "metadata": {
        "id": "Lb-LLeYcfQgw"
      },
      "outputs": [
        {
          "name": "stdout",
          "output_type": "stream",
          "text": [
            "<class 'pandas.core.frame.DataFrame'>\n",
            "Index: 6606 entries, 0 to 8692\n",
            "Data columns (total 14 columns):\n",
            " #   Column            Non-Null Count  Dtype  \n",
            "---  ------            --------------  -----  \n",
            " 0   PassageiroId      6606 non-null   object \n",
            " 1   PlanetaNatal      6606 non-null   object \n",
            " 2   CrioSono          6606 non-null   object \n",
            " 3   Cabine            6606 non-null   object \n",
            " 4   Destino           6606 non-null   object \n",
            " 5   Idade             6606 non-null   float64\n",
            " 6   VIP               6606 non-null   object \n",
            " 7   ServicoDeQuarto   6606 non-null   float64\n",
            " 8   PracaAlimentacao  6606 non-null   float64\n",
            " 9   Shopping          6606 non-null   float64\n",
            " 10  Spa               6606 non-null   float64\n",
            " 11  DeckVirtual       6606 non-null   float64\n",
            " 12  Nome              6606 non-null   object \n",
            " 13  Transportado      6606 non-null   bool   \n",
            "dtypes: bool(1), float64(6), object(7)\n",
            "memory usage: 729.0+ KB\n"
          ]
        }
      ],
      "source": [
        "df.info()\n",
        "df.dropna(inplace=True)"
      ]
    },
    {
      "cell_type": "markdown",
      "metadata": {
        "id": "GYRdtvQJBFs4"
      },
      "source": [
        "### **Questão 4) (1 ponto)** Qual a média de passageiros transportados de cada planeta natal?"
      ]
    },
    {
      "cell_type": "code",
      "execution_count": 96,
      "metadata": {},
      "outputs": [
        {
          "name": "stdout",
          "output_type": "stream",
          "text": [
            "Média de passageiros transportados da Terra: 23\n",
            "Média de passageiros transportados de Europa: 17\n",
            "Média de passageiros transportados de Marte: 11\n"
          ]
        }
      ],
      "source": [
        "# Qual a média de passageiros transportados de cada planeta natal?\n",
        "transported_passengers = df.query(\"Transportado == True\")\n",
        "not_transported_passengers = df.query(\"Transportado == False\")\n",
        "\n",
        "transported_passengers.value_counts('PlanetaNatal')\n",
        "# Earth     1518\n",
        "# Europa    1104\n",
        "# Mars       705\n",
        "df.shape[0]\n",
        "# 6606 pessoas ao total\n",
        "\n",
        "print(f'Média de passageiros transportados da Terra: {1518/6606 * 100:.0f}')\n",
        "print(f'Média de passageiros transportados de Europa: {1104/6606 * 100:.0f}')\n",
        "print(f'Média de passageiros transportados de Marte: {705/6606 * 100:.0f}')"
      ]
    },
    {
      "cell_type": "markdown",
      "metadata": {
        "id": "IwDUdon9BpLg"
      },
      "source": [
        "### **Questão 5) (1 ponto)** O CrioSono aumenta as chances de ser transportado?\n",
        "*(Qual a média de passageiros transportados que estavam ou não em CrioSono)*"
      ]
    },
    {
      "cell_type": "code",
      "execution_count": 102,
      "metadata": {
        "id": "-h50ffd6CPGB"
      },
      "outputs": [
        {
          "name": "stdout",
          "output_type": "stream",
          "text": [
            "Transportado\n",
            "True     1905\n",
            "False     427\n",
            "Name: count, dtype: int64\n",
            "81.69% foram teleportados dentre os que usaram o CrioSono\n",
            "Transportado\n",
            "False    2852\n",
            "True     1422\n",
            "Name: count, dtype: int64\n",
            "33.27% foram teleportados dentre os que não usaram o CrioSono\n",
            "Sim, o CrioSono influencia na taxa de transporte dos passageiros\n",
            "CrioSono\n",
            "False    0.332709\n",
            "True     0.816895\n",
            "Name: Transportado, dtype: float64\n"
          ]
        }
      ],
      "source": [
        "passengers_using_CrioSono = df.query(\"CrioSono == True\")\n",
        "passengers_not_using_CrioSono = df.query(\"CrioSono == False\")\n",
        "print(passengers_using_CrioSono.value_counts(\"Transportado\")) # Dentre os passageiros que usaram o CrioSono, 1905 foram transportados e 427 não foram transportados\n",
        "print(f\"{1905 / 2332 * 100:.2f}% foram teleportados dentre os que usaram o CrioSono\")\n",
        "print(passengers_not_using_CrioSono.value_counts(\"Transportado\")) # Dentre os passageiros que não usaram o CrioSono, 1422 foram transportados e 2852 não foram transportados\n",
        "print(f\"{1422 /4274 * 100:.2f}% foram teleportados dentre os que não usaram o CrioSono\")\n",
        "\n",
        "print(\"Sim, o CrioSono influencia na taxa de transporte dos passageiros\")"
      ]
    },
    {
      "cell_type": "markdown",
      "metadata": {
        "id": "daQbih6pSrBP"
      },
      "source": [
        "## Pré-processamento\n",
        "\n",
        "Antes, vamos nos certificar de que as features Transportado, CrioSono e VIP são booleanas."
      ]
    },
    {
      "cell_type": "code",
      "execution_count": 85,
      "metadata": {
        "id": "y75biV-sHBIY"
      },
      "outputs": [],
      "source": [
        "df[['Transportado','CrioSono', 'VIP']] = df[['Transportado','CrioSono', 'VIP']].astype(bool)"
      ]
    },
    {
      "cell_type": "markdown",
      "metadata": {
        "id": "MGS2xhCtC2f4"
      },
      "source": [
        "### **Questão 6) (1,5 pontos)** Realize a Codificação One Hot (One Hot Encoding) para transformar as variáveis categóricas em features (colunas).\n",
        "\n",
        "*Para preservar os dados originais, aplique a codificação One Hot em um novo DataFrame*\n",
        "\n",
        "Ao fazer a Codificação One Hot, **exclua as features únicas**   `PassageiroId`, `Cabine` e `Nome`"
      ]
    },
    {
      "cell_type": "code",
      "execution_count": 106,
      "metadata": {
        "id": "Cq80swPsEzMQ"
      },
      "outputs": [
        {
          "data": {
            "text/html": [
              "<div>\n",
              "<style scoped>\n",
              "    .dataframe tbody tr th:only-of-type {\n",
              "        vertical-align: middle;\n",
              "    }\n",
              "\n",
              "    .dataframe tbody tr th {\n",
              "        vertical-align: top;\n",
              "    }\n",
              "\n",
              "    .dataframe thead th {\n",
              "        text-align: right;\n",
              "    }\n",
              "</style>\n",
              "<table border=\"1\" class=\"dataframe\">\n",
              "  <thead>\n",
              "    <tr style=\"text-align: right;\">\n",
              "      <th></th>\n",
              "      <th>PlanetaNatal_Earth</th>\n",
              "      <th>PlanetaNatal_Europa</th>\n",
              "      <th>PlanetaNatal_Mars</th>\n",
              "      <th>CrioSono_False</th>\n",
              "      <th>CrioSono_True</th>\n",
              "      <th>Destino_55 Cancri e</th>\n",
              "      <th>Destino_PSO J318.5-22</th>\n",
              "      <th>Destino_TRAPPIST-1e</th>\n",
              "      <th>Idade_0.0</th>\n",
              "      <th>Idade_1.0</th>\n",
              "      <th>...</th>\n",
              "      <th>DeckVirtual_12424.0</th>\n",
              "      <th>DeckVirtual_12682.0</th>\n",
              "      <th>DeckVirtual_12708.0</th>\n",
              "      <th>DeckVirtual_14485.0</th>\n",
              "      <th>DeckVirtual_16337.0</th>\n",
              "      <th>DeckVirtual_17074.0</th>\n",
              "      <th>DeckVirtual_17306.0</th>\n",
              "      <th>DeckVirtual_20336.0</th>\n",
              "      <th>Transportado_False</th>\n",
              "      <th>Transportado_True</th>\n",
              "    </tr>\n",
              "  </thead>\n",
              "  <tbody>\n",
              "    <tr>\n",
              "      <th>0</th>\n",
              "      <td>False</td>\n",
              "      <td>True</td>\n",
              "      <td>False</td>\n",
              "      <td>True</td>\n",
              "      <td>False</td>\n",
              "      <td>False</td>\n",
              "      <td>False</td>\n",
              "      <td>True</td>\n",
              "      <td>False</td>\n",
              "      <td>False</td>\n",
              "      <td>...</td>\n",
              "      <td>False</td>\n",
              "      <td>False</td>\n",
              "      <td>False</td>\n",
              "      <td>False</td>\n",
              "      <td>False</td>\n",
              "      <td>False</td>\n",
              "      <td>False</td>\n",
              "      <td>False</td>\n",
              "      <td>True</td>\n",
              "      <td>False</td>\n",
              "    </tr>\n",
              "    <tr>\n",
              "      <th>1</th>\n",
              "      <td>True</td>\n",
              "      <td>False</td>\n",
              "      <td>False</td>\n",
              "      <td>True</td>\n",
              "      <td>False</td>\n",
              "      <td>False</td>\n",
              "      <td>False</td>\n",
              "      <td>True</td>\n",
              "      <td>False</td>\n",
              "      <td>False</td>\n",
              "      <td>...</td>\n",
              "      <td>False</td>\n",
              "      <td>False</td>\n",
              "      <td>False</td>\n",
              "      <td>False</td>\n",
              "      <td>False</td>\n",
              "      <td>False</td>\n",
              "      <td>False</td>\n",
              "      <td>False</td>\n",
              "      <td>False</td>\n",
              "      <td>True</td>\n",
              "    </tr>\n",
              "    <tr>\n",
              "      <th>2</th>\n",
              "      <td>False</td>\n",
              "      <td>True</td>\n",
              "      <td>False</td>\n",
              "      <td>True</td>\n",
              "      <td>False</td>\n",
              "      <td>False</td>\n",
              "      <td>False</td>\n",
              "      <td>True</td>\n",
              "      <td>False</td>\n",
              "      <td>False</td>\n",
              "      <td>...</td>\n",
              "      <td>False</td>\n",
              "      <td>False</td>\n",
              "      <td>False</td>\n",
              "      <td>False</td>\n",
              "      <td>False</td>\n",
              "      <td>False</td>\n",
              "      <td>False</td>\n",
              "      <td>False</td>\n",
              "      <td>True</td>\n",
              "      <td>False</td>\n",
              "    </tr>\n",
              "    <tr>\n",
              "      <th>3</th>\n",
              "      <td>False</td>\n",
              "      <td>True</td>\n",
              "      <td>False</td>\n",
              "      <td>True</td>\n",
              "      <td>False</td>\n",
              "      <td>False</td>\n",
              "      <td>False</td>\n",
              "      <td>True</td>\n",
              "      <td>False</td>\n",
              "      <td>False</td>\n",
              "      <td>...</td>\n",
              "      <td>False</td>\n",
              "      <td>False</td>\n",
              "      <td>False</td>\n",
              "      <td>False</td>\n",
              "      <td>False</td>\n",
              "      <td>False</td>\n",
              "      <td>False</td>\n",
              "      <td>False</td>\n",
              "      <td>True</td>\n",
              "      <td>False</td>\n",
              "    </tr>\n",
              "    <tr>\n",
              "      <th>4</th>\n",
              "      <td>True</td>\n",
              "      <td>False</td>\n",
              "      <td>False</td>\n",
              "      <td>True</td>\n",
              "      <td>False</td>\n",
              "      <td>False</td>\n",
              "      <td>False</td>\n",
              "      <td>True</td>\n",
              "      <td>False</td>\n",
              "      <td>False</td>\n",
              "      <td>...</td>\n",
              "      <td>False</td>\n",
              "      <td>False</td>\n",
              "      <td>False</td>\n",
              "      <td>False</td>\n",
              "      <td>False</td>\n",
              "      <td>False</td>\n",
              "      <td>False</td>\n",
              "      <td>False</td>\n",
              "      <td>False</td>\n",
              "      <td>True</td>\n",
              "    </tr>\n",
              "  </tbody>\n",
              "</table>\n",
              "<p>5 rows × 5711 columns</p>\n",
              "</div>"
            ],
            "text/plain": [
              "   PlanetaNatal_Earth  PlanetaNatal_Europa  PlanetaNatal_Mars  CrioSono_False  \\\n",
              "0               False                 True              False            True   \n",
              "1                True                False              False            True   \n",
              "2               False                 True              False            True   \n",
              "3               False                 True              False            True   \n",
              "4                True                False              False            True   \n",
              "\n",
              "   CrioSono_True  Destino_55 Cancri e  Destino_PSO J318.5-22  \\\n",
              "0          False                False                  False   \n",
              "1          False                False                  False   \n",
              "2          False                False                  False   \n",
              "3          False                False                  False   \n",
              "4          False                False                  False   \n",
              "\n",
              "   Destino_TRAPPIST-1e  Idade_0.0  Idade_1.0  ...  DeckVirtual_12424.0  \\\n",
              "0                 True      False      False  ...                False   \n",
              "1                 True      False      False  ...                False   \n",
              "2                 True      False      False  ...                False   \n",
              "3                 True      False      False  ...                False   \n",
              "4                 True      False      False  ...                False   \n",
              "\n",
              "   DeckVirtual_12682.0  DeckVirtual_12708.0  DeckVirtual_14485.0  \\\n",
              "0                False                False                False   \n",
              "1                False                False                False   \n",
              "2                False                False                False   \n",
              "3                False                False                False   \n",
              "4                False                False                False   \n",
              "\n",
              "   DeckVirtual_16337.0  DeckVirtual_17074.0  DeckVirtual_17306.0  \\\n",
              "0                False                False                False   \n",
              "1                False                False                False   \n",
              "2                False                False                False   \n",
              "3                False                False                False   \n",
              "4                False                False                False   \n",
              "\n",
              "   DeckVirtual_20336.0  Transportado_False  Transportado_True  \n",
              "0                False                True              False  \n",
              "1                False               False               True  \n",
              "2                False                True              False  \n",
              "3                False                True              False  \n",
              "4                False               False               True  \n",
              "\n",
              "[5 rows x 5711 columns]"
            ]
          },
          "execution_count": 106,
          "metadata": {},
          "output_type": "execute_result"
        }
      ],
      "source": [
        "cols = ['PlanetaNatal', 'CrioSono', 'Destino', 'Idade', 'VIP', 'ServicoDeQuarto', 'PracaAlimentacao', 'Shopping', 'Spa', 'DeckVirtual', 'Transportado']\n",
        "df_onehot = df[cols].copy()\n",
        "df_onehot = pd.get_dummies(df_onehot, columns=cols)\n",
        "df_onehot.head()"
      ]
    },
    {
      "cell_type": "markdown",
      "metadata": {
        "id": "3aZQz91uV35Q"
      },
      "source": [
        "## Correlação"
      ]
    },
    {
      "cell_type": "markdown",
      "metadata": {
        "id": "RhPXlYzqVgrn"
      },
      "source": [
        "### **Questão 7) (1 ponto)** Mostre um gráfico de barras da correlação entre `Transportado` as outras features."
      ]
    },
    {
      "cell_type": "code",
      "execution_count": 107,
      "metadata": {
        "id": "VuadoWL6ViqY"
      },
      "outputs": [],
      "source": [
        "plt.figure(figsize=(15,8))\n",
        "df_onehot.corr()['Transportado'].sort_values(ascending = False).plot(kind='bar')"
      ]
    },
    {
      "cell_type": "markdown",
      "metadata": {
        "id": "x3djyyZmWoxX"
      },
      "source": [
        "## KNN"
      ]
    },
    {
      "cell_type": "markdown",
      "metadata": {
        "id": "5RsUA-63aPo3"
      },
      "source": [
        "\n",
        "### **Questão 8) (1 ponto)** Divida o `DataFrame` criado para a questão anterior, criando um `DataFrame` de teste, com um terço dos dados e um outro de treino, com o resto dos dados.\n",
        "\n",
        "*OSB: Utilize os parâmetros que julgar pertinentes para a divisão do conjunto de dados.*"
      ]
    },
    {
      "cell_type": "code",
      "execution_count": null,
      "metadata": {
        "id": "Yqnu3-mjgbf_"
      },
      "outputs": [],
      "source": [
        "from sklearn.model_selection import train_test_split\n",
        "# df é o DataFrame criado na questão anterior\n",
        "df_train, df_test = train_test_split(df, test_size=0.33, random_state=42)"
      ]
    },
    {
      "cell_type": "markdown",
      "metadata": {
        "id": "r5su7Pxrb67I"
      },
      "source": [
        "### **Questão 9) (1 ponto)** Execute o classificador KNN na feature Transportado para 1 vizinho e verifique a acurácia."
      ]
    },
    {
      "cell_type": "code",
      "execution_count": null,
      "metadata": {
        "id": "qZJTlDZUgg0o"
      },
      "outputs": [],
      "source": [
        "from sklearn.neighbors import KNeighborsClassifier\n",
        "df_treino, df_teste = train_test_split(df, test_size=0.33, shuffle=True, random_state=1)\n",
        "\n",
        "plt.figure(figsize=(10, 5))\n",
        "plt.scatter(df_treino['height'], df_treino['weight'],\n",
        "            c='tab:green', s=50, alpha=0.5, label='Dados de treino')\n",
        "plt.scatter(df_teste['height'], df_teste['weight'],\n",
        "            c='tab:gray', s=20, alpha=0.8, label='Dados de Teste')\n",
        "\n",
        "X_treino, y_treino = df_treino[['height', 'weight']], df_treino['male']\n",
        "X_teste, y_teste = df_teste[['height', 'weight']], df_teste['male']\n",
        "\n",
        "classificador = KNeighborsClassifier(n_neighbors=1)\n",
        "\n",
        "classificador.fit(X_treino, y_treino)\n",
        "y_pred_treino = classificador.predict(X_treino)\n",
        "y_pred_teste = classificador.predict(X_teste)   \n",
        "accuracy_score(y_treino, y_pred_treino)\n",
        "accuracy_score(y_teste, y_pred_teste)"
      ]
    },
    {
      "cell_type": "markdown",
      "metadata": {
        "id": "CYbyTkyidFEQ"
      },
      "source": [
        "\n",
        "### **Questão 10) (2 pontos)** Execute o classificador KNN na feature Transportado para 2,3,4,...,30 vizinhos e desenhe um gráfico da acurácia. Escreva em um comentário de código qual número de vizinhos você escolheria para este classificador e por qual motivo."
      ]
    },
    {
      "cell_type": "code",
      "execution_count": null,
      "metadata": {
        "id": "3KdL0jgwh1Wb"
      },
      "outputs": [],
      "source": [
        "# Código da questão\n",
        "acu_teste = []\n",
        "acu_treino = []\n",
        "\n",
        "for k in range(1,30):\n",
        "    model = KNeighborsClassifier(n_neighbors = k)\n",
        "    model.fit(X_treino, y_treino)\n",
        "\n",
        "    y_pred = model.predict(X_teste)\n",
        "    y_pred_treino = model.predict(X_treino)\n",
        "\n",
        "    acu_teste.append(accuracy_score(y_teste, y_pred))\n",
        "    acu_treino.append(accuracy_score(y_treino, y_pred_treino))\n",
        "\n",
        "    plt.figure(figsize=(15,5))\n",
        "\n",
        "plt.plot(range(1,10), acu_teste, label='acurácia teste');\n",
        "plt.plot(range(1,10), acu_treino, label='acurácia treino');\n",
        "\n",
        "plt.scatter(range(1,10), acu_teste);\n",
        "plt.scatter(range(1,10), acu_treino);\n",
        "\n",
        "plt.xlabel('Número de vizinhos (k)')\n",
        "plt.ylabel('Acurácia');\n",
        "plt.legend();"
      ]
    },
    {
      "cell_type": "code",
      "execution_count": null,
      "metadata": {
        "id": "-rggx-UIgJMw"
      },
      "outputs": [],
      "source": [
        "# Escreva em um comentário de código qual número de vizinhos você escolheria para este classificador e por qual motivo\n",
        "# Resposta:"
      ]
    }
  ],
  "metadata": {
    "colab": {
      "provenance": []
    },
    "kernelspec": {
      "display_name": "Python 3",
      "name": "python3"
    },
    "language_info": {
      "codemirror_mode": {
        "name": "ipython",
        "version": 3
      },
      "file_extension": ".py",
      "mimetype": "text/x-python",
      "name": "python",
      "nbconvert_exporter": "python",
      "pygments_lexer": "ipython3",
      "version": "3.12.0"
    }
  },
  "nbformat": 4,
  "nbformat_minor": 0
}
