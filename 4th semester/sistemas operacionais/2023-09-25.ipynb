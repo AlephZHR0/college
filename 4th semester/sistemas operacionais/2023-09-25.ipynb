{
 "cells": [
  {
   "cell_type": "code",
   "execution_count": 20,
   "metadata": {},
   "outputs": [
    {
     "name": "stdout",
     "output_type": "stream",
     "text": [
      "Thread 1 : Tue Sep 26 13:10:25 2023\n",
      "Thread 2 : Tue Sep 26 13:10:25 2023\n",
      "Terminou!\n"
     ]
    },
    {
     "name": "stdout",
     "output_type": "stream",
     "text": [
      "Thread 1 : Tue Sep 26 13:10:27 2023\n",
      "Thread 2 : Tue Sep 26 13:10:29 2023\n",
      "Thread 1 : Tue Sep 26 13:10:29 2023\n",
      "Thread 1 : Tue Sep 26 13:10:31 2023\n",
      "Thread 2 : Tue Sep 26 13:10:33 2023\n",
      "Thread 1 : Tue Sep 26 13:10:33 2023\n",
      "Thread 2 : Tue Sep 26 13:10:37 2023\n",
      "Thread 2 : Tue Sep 26 13:10:41 2023\n"
     ]
    }
   ],
   "source": [
    "import threading\n",
    "import time\n",
    "# Função para mostrar o horário e esperar um tempo, repetindo 5 vezes\n",
    "def mostra_tempo(nome, atraso):\n",
    "    for _ in range(5):\n",
    "        print(nome, \":\", time.ctime())\n",
    "        time.sleep(atraso)\n",
    "# Criando threads\n",
    "t1 = threading.Thread(target=mostra_tempo, args=(\"Thread 1\", 2,))\n",
    "t2 = threading.Thread(target=mostra_tempo, args=(\"Thread 2\", 4,))\n",
    "\n",
    "t1.start()\n",
    "t2.start()\n",
    "\n",
    "print(\"Terminou!\")\n"
   ]
  },
  {
   "cell_type": "code",
   "execution_count": 21,
   "metadata": {},
   "outputs": [
    {
     "name": "stdout",
     "output_type": "stream",
     "text": [
      "Quadrado 100\n",
      "Cubo 1000\n",
      "Terminou!\n"
     ]
    }
   ],
   "source": [
    "import threading\n",
    "def quadrado(num):\n",
    "    # Função para calcular e mostrar o quadrado de um número\n",
    "    resposta = num * num\n",
    "    print(\"Quadrado\", resposta)\n",
    "def cubo(num):\n",
    "    # Função para calcular e mostrar o cubo de um número\n",
    "    resposta = num * num * num\n",
    "    print(\"Cubo\", resposta)\n",
    "# Criando threads\n",
    "t1 = threading.Thread(target=quadrado, args=(10,))\n",
    "t2 = threading.Thread(target=cubo, args=(10,))\n",
    "# Iniciando a thread 1\n",
    "t1.start()\n",
    "# Iniciando a thread 2\n",
    "t2.start()\n",
    "# espera até a thread 1 terminar de executar\n",
    "t1.join()\n",
    "# espera até a thread 2 terminar de executar\n",
    "t2.join()\n",
    "# As dias threads foram inteiramente executadas\n",
    "print(\"Terminou!\")\n"
   ]
  },
  {
   "cell_type": "code",
   "execution_count": 22,
   "metadata": {},
   "outputs": [
    {
     "name": "stdout",
     "output_type": "stream",
     "text": [
      "ID do processo executando o programa principal: 21460\n",
      "Nome da tread principal: MainThread\n",
      "Tarefa 1 designada para a thread: t1\n",
      "ID do processo executando tarefa 1: 21460\n",
      "Tarefa 2 designada para a thread: t2\n",
      "ID do processo executando tarefa 2: 21460\n"
     ]
    }
   ],
   "source": [
    "import threading\n",
    "import os\n",
    "def task1():\n",
    "    print(\"Tarefa 1 designada para a thread:\", threading.current_thread().name)\n",
    "    print(\"ID do processo executando tarefa 1:\", os.getpid())\n",
    "def task2():\n",
    "    print(\"Tarefa 2 designada para a thread:\", threading.current_thread().name)\n",
    "    print(\"ID do processo executando tarefa 2:\", os.getpid())\n",
    "# Mostra o ID do processo atual\n",
    "print(\"ID do processo executando o programa principal:\", os.getpid())\n",
    "# Mostra o nome da thread principal\n",
    "print(\"Nome da tread principal:\", threading.current_thread().name)\n",
    "# Criando threads\n",
    "t1 = threading.Thread(target=task1, name='t1')\n",
    "t2 = threading.Thread(target=task2, name='t2')\n",
    "# Iniciando threads\n",
    "t1.start()\n",
    "t2.start()\n",
    "# espera até todas as threads terminarem\n",
    "t1.join()\n",
    "t2.join()\n"
   ]
  },
  {
   "cell_type": "code",
   "execution_count": 23,
   "metadata": {},
   "outputs": [
    {
     "name": "stdout",
     "output_type": "stream",
     "text": [
      "Iniciando a Thread 1\n",
      "Thread 1 : Tue Sep 26 13:11:42 2023\n",
      "Iniciando a Thread 2\n",
      "Thread 2 : Tue Sep 26 13:11:42 2023\n",
      "Terminou a Thread 1\n",
      "Thread 1 : Tue Sep 26 13:11:44 2023\n",
      "Terminou aTerminou a Thread 2\n",
      "Thread 2 : Tue Sep 26 13:11:46 2023\n",
      " Thread 1\n",
      "Thread 1 : Tue Sep 26 13:11:46 2023\n",
      "Terminou a Thread 1\n",
      "Thread 1 : Tue Sep 26 13:11:48 2023\n",
      "Terminou aTerminou a Thread 1\n",
      "Thread 1 : Tue Sep 26 13:11:50 2023\n",
      " Thread 2\n",
      "Thread 2 : Tue Sep 26 13:11:50 2023\n",
      "Terminou a Thread 1\n",
      "Iniciando o processo principal!\n",
      "Terminou a Thread 2\n",
      "Thread 2 : Tue Sep 26 13:11:54 2023\n",
      "Terminou a Thread 2\n",
      "Thread 2 : Tue Sep 26 13:11:58 2023\n",
      "Terminou a Thread 2\n",
      "Iniciando o processo principal!\n",
      "Terminou o processo principal!\n"
     ]
    }
   ],
   "source": [
    "import threading\n",
    "import time\n",
    "# Função para mostrar o horário e esperar um tempo, repetindo 5 vezes\n",
    "def mostra_tempo(nome, atraso):\n",
    "    print(\"Iniciando a\", nome)\n",
    "    for i in range(5):\n",
    "        print(nome, \":\", time.ctime())\n",
    "        time.sleep(atraso)\n",
    "        print(\"Terminou a\", nome)\n",
    "    print(\"Iniciando o processo principal!\")\n",
    "# Criando threads\n",
    "t1 = threading.Thread(target=mostra_tempo, args=(\"Thread 1\", 2,))\n",
    "t2 = threading.Thread(target=mostra_tempo, args=(\"Thread 2\", 4,))\n",
    "# Iniciando a thread 1\n",
    "t1.start()\n",
    "# Iniciando a thread 2\n",
    "t2.start()\n",
    "# espera até a thread 1 terminar de executar\n",
    "t1.join()\n",
    "# espera até a thread 2 terminar de executar\n",
    "t2.join()\n",
    "print(\"Terminou o processo principal!\")\n"
   ]
  },
  {
   "cell_type": "code",
   "execution_count": null,
   "metadata": {},
   "outputs": [],
   "source": []
  }
 ],
 "metadata": {
  "kernelspec": {
   "display_name": "Python 3",
   "language": "python",
   "name": "python3"
  },
  "language_info": {
   "codemirror_mode": {
    "name": "ipython",
    "version": 3
   },
   "file_extension": ".py",
   "mimetype": "text/x-python",
   "name": "python",
   "nbconvert_exporter": "python",
   "pygments_lexer": "ipython3",
   "version": "3.11.5"
  },
  "orig_nbformat": 4
 },
 "nbformat": 4,
 "nbformat_minor": 2
}
