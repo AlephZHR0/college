{
 "cells": [
  {
   "cell_type": "markdown",
   "metadata": {},
   "source": [
    "# Problemas de Física"
   ]
  },
  {
   "cell_type": "markdown",
   "metadata": {},
   "source": [
    "## Exercício 1\n",
    "\n",
    "Na figura 01 a seguir, temos um triângulo isosceles, sendo $AE$ e $BD$ alturas relativas e onde $CD=CE=15.0m$ e $AD=BE=3.00m$. Nós vértices $C$, $D$ e $E$, temos respectivamente as cargas elétricas pontuais $Q_1$, $Q_2$ e $Q_3$ com valor respectivamente de $24.0nC$, $-27.0nC$ e $81.0nC$. Desta forma determine:\n",
    "\n",
    "* a) O Potencial Elétrico no ponto \"A\"\n",
    "* b) O Potencial Elétrico no ponto \"B\"\n",
    "* c) O valor da carga elétrica transportada de B para A, sabendo-se que o trabalho elétrico foi de $W=3.24x10 J$"
   ]
  },
  {
   "cell_type": "markdown",
   "metadata": {},
   "source": [
    "### Resposta"
   ]
  },
  {
   "cell_type": "markdown",
   "metadata": {},
   "source": [
    "**a) $VA = V_1 + V_2 + V_3$**\n",
    "\n",
    "VA = $k\\left( \\dfrac{Q_1}{r_1} + \\dfrac{Q_2}{r_2} + \\dfrac{Q_3}{r_3} \\right)$\n",
    "\n",
    "VA = $9.00 \\cdot 10^{9} \\left[ \\dfrac{24.0 \\cdot 10^{-9}}{12.0} + \\dfrac{-27 \\cdot 10^9}{3} + \\dfrac{81.0 \\cdot 10^{-9}}{9}\\right]$\n",
    "\n",
    "VA = $18.0 V$\n",
    "\n",
    "**b) $VB = V_1 + V_2 + V_3$**\n",
    "\n",
    "VB = $k\\left( \\dfrac{Q_1}{r_{1'}} + \\dfrac{Q_2}{r_{2'}} + \\dfrac{Q_3}{r_{3'}} \\right)$\n",
    "VB = $9.00 \\cdot 10^{9} \\left[ \\dfrac{24.0 \\cdot 10^{-9}}{12.0} + \\dfrac{-27 \\cdot 10^9}{3} + \\dfrac{81.0 \\cdot 10^{-9}}{9}\\right]$\n",
    "\n",
    "VB = $234 V$\n",
    "\n",
    "**c) $T_{BA} = q_x \\cdot V_{BA}$**\n",
    "\n",
    "$q_{x} = \\dfrac{T_{BA}}{V_{BA}}$\n",
    "\n",
    "$q = \\dfrac{3.24 \\cdot 10^{-3}}{234 - 18.0}$\n",
    "\n",
    "TBA = $15.0 \\mu C$"
   ]
  },
  {
   "cell_type": "code",
   "execution_count": null,
   "metadata": {},
   "outputs": [],
   "source": []
  },
  {
   "cell_type": "markdown",
   "metadata": {},
   "source": [
    "## Exercício 2\n",
    "\n",
    "Considere um disco de raio externo $R_{externo}=2.718 m$, com um furo no centro do raio, de raio interno $R_{interno}=1.822m$, completamente carregado e eletrizado com densidade superficial de carga elétrica $\\sigma = \\dfrac{\\ln{r}}{\\pi r^{2}} \\left[ \\dfrac{C}{m^{2}} \\right]$\n",
    "\n",
    "- a) Calcule a Carga Elétrica que cabe no disco vazado\n",
    "- b) Calcule a Densidade Superficial Média de carga elétrica no disco vazado"
   ]
  },
  {
   "cell_type": "markdown",
   "metadata": {},
   "source": [
    "### Resposta"
   ]
  },
  {
   "cell_type": "markdown",
   "metadata": {},
   "source": [
    "Dados:\n",
    "$R = 2.718 m$\n",
    "\n",
    "$r = 1.822 m$\n",
    "\n",
    "$\\sigma = \\frac{\\ln{r}}{\\pi r^2} \\left[ c \\frac{m}{m^2} \\right]$\n",
    "\n",
    "a) $Q$\n",
    "\n",
    "$dQ = \\sigma dS$\n",
    "\n",
    "$\\left(\n",
    "    S = \\pi r^2\n",
    "    \\qquad\n",
    "    \\dfrac{dS}{dr} = \\pi 2r\n",
    "    \\qquad\n",
    "    ds = 2\\pi dr\n",
    "\\right)$\n",
    "\n",
    "$\\int_{0}^{Q} dQ = \\int_{1.822}^{2.718} \\frac{\\ln r}{\\cancel{\\pi} r^{\\cancel{2}}} 2 \\cancel{\\pi} \\cancel{r} dr \\implies$\n",
    "\n",
    "$Q = \\int_{1.822}^{2.718} \\frac{2 \\ln{r}}{r} dr \\implies$\n",
    "$\\begin{cases} u=\\ln r & \\begin{cases} r = 2.718 \\qquad u = 1.000\\\\ r=1.822 \\qquad u=0.600\\end{cases}\\\\ \n",
    "\\frac{du}{dr} = \\frac{1}{r} \\\\\n",
    "du = \\frac{1}{r}dr\\end{cases}$\n",
    "\n",
    "$Q = 2 \\int_{0.600}^{1.000} u du \\implies$ \n",
    "\n",
    "$Q = 2 \\cdot \\frac{u^2}{2} \\bigg|_{0.600}^{1.000} = (1.000^2 - 0.600^2)$\n",
    "\n",
    "$Q = 0.640C$\n",
    "\n",
    "b) $\\langle \\sigma \\rangle = \\frac{Q}{A} = \\frac{0.640}{\\pi (2.718^2 - 1.822^2)}$\n",
    "\n",
    "$\\langle \\sigma \\rangle = 5.00 \\cdot 10^{-2} \\dfrac{C}{m^2}$\n",
    "\n",
    "Outras Fórmulas:\n",
    "\n",
    "$u = \\sigma m r \\implies r^{2.718} u^{1.000}$\n",
    "$u = 0.600$\n",
    "$\\frac{du}{dr} = \\frac{2}{r} \\implies du = \\frac{2}{r} dr$\n"
   ]
  },
  {
   "cell_type": "code",
   "execution_count": null,
   "metadata": {},
   "outputs": [],
   "source": []
  },
  {
   "cell_type": "markdown",
   "metadata": {},
   "source": [
    "## Exercício 3\n",
    "\n",
    "Na figura 02 a seguir, no vácuo, temos um losango com todas as medidas de comprimento em centímetros. Em cada um dos vértices temos uma carga diferente a saber ($q_1$,$q_2$, $q_3$ e $q_4$) de valores $240 \\mu C$, $360 \\mu C$, $600 \\mu C$ e $320 \\mu C$. Determinar:\n",
    "\n",
    "- a) O vetor Força Eletrostática em $q_1$\n",
    "- b) O módulo da Força Resultante na carga $q_1$\n",
    "- c) O ângulo que esta força forma com a horizontal"
   ]
  },
  {
   "cell_type": "code",
   "execution_count": null,
   "metadata": {},
   "outputs": [],
   "source": []
  },
  {
   "cell_type": "markdown",
   "metadata": {},
   "source": [
    "## Exercício 4\n",
    "\n",
    "Na figura 03 a seguir tem-se as cargas $Q_1=1.00 \\mu C$, $Q_2=2.00 \\mu C$  e $Q_3=3.00 \\mu C$, foram colocadas nos vértices de um triângulo equilátero de lado $L=40.0cm$, sabendo-se que A é o ponto médio do lado do triângulo, Determine:\n",
    "\n",
    "- a) O Campo Elétrico no ponto \"A\"\n",
    "- b) A Força Eletrostática na carga $Q_1$"
   ]
  },
  {
   "cell_type": "markdown",
   "metadata": {},
   "source": []
  }
 ],
 "metadata": {
  "kernelspec": {
   "display_name": "Python 3",
   "language": "python",
   "name": "python3"
  },
  "language_info": {
   "codemirror_mode": {
    "name": "ipython",
    "version": 3
   },
   "file_extension": ".py",
   "mimetype": "text/x-python",
   "name": "python",
   "nbconvert_exporter": "python",
   "pygments_lexer": "ipython3",
   "version": "3.12.0"
  }
 },
 "nbformat": 4,
 "nbformat_minor": 2
}
