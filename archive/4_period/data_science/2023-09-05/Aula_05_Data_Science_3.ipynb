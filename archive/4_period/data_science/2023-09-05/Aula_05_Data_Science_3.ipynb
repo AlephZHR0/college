{
  "cells": [
    {
      "cell_type": "markdown",
      "id": "750a8bd5",
      "metadata": {
        "id": "750a8bd5"
      },
      "source": [
        "#Predição de Evasão na Indústria de Telefonia*\n",
        "\n",
        "*Dados adaptados de `https://www.kaggle.com/code/bandiatindra/telecom-churn-prediction/data` com traduções e algum pré-processamento\n",
        "\n",
        "####A rotatividade de clientes é um dos maiores problemas da indústria de telecomunicações. A pesquisa mostrou a taxa média de rotatividade mensal entre as 4 principais operadoras de telefonia móvel nos EUA é de 1,9% a 2%."
      ]
    },
    {
      "cell_type": "code",
      "execution_count": null,
      "id": "modern-shield",
      "metadata": {
        "id": "modern-shield"
      },
      "outputs": [],
      "source": [
        "import numpy as np\n",
        "import pandas as pd\n",
        "import seaborn as sns\n",
        "import matplotlib.pyplot as plt"
      ]
    },
    {
      "cell_type": "markdown",
      "id": "MLqyrsjRevqG",
      "metadata": {
        "id": "MLqyrsjRevqG"
      },
      "source": [
        "####Leia o arquivo de dados no notebook python"
      ]
    },
    {
      "cell_type": "code",
      "execution_count": null,
      "id": "molecular-people",
      "metadata": {
        "id": "molecular-people"
      },
      "outputs": [],
      "source": [
        "telecom_cust = pd.read_csv('4th semester/data_science/2023-09-05/telecom_churn_trad.csv')"
      ]
    },
    {
      "cell_type": "markdown",
      "id": "RqtoHrWjfw4U",
      "metadata": {
        "id": "RqtoHrWjfw4U"
      },
      "source": [
        "####Dê uma espiada nas primeiras cinco observações"
      ]
    },
    {
      "cell_type": "code",
      "execution_count": null,
      "id": "embedded-maximum",
      "metadata": {
        "id": "embedded-maximum"
      },
      "outputs": [],
      "source": [
        "telecom_cust.head()"
      ]
    },
    {
      "cell_type": "markdown",
      "id": "pzlUszccgAZx",
      "metadata": {
        "id": "pzlUszccgAZx"
      },
      "source": [
        "####Liste os nomes das features (colunas)"
      ]
    },
    {
      "cell_type": "code",
      "execution_count": null,
      "id": "responsible-panic",
      "metadata": {
        "id": "responsible-panic"
      },
      "outputs": [],
      "source": [
        "telecom_cust.columns.values"
      ]
    },
    {
      "cell_type": "markdown",
      "id": "n9akaHPDfsIO",
      "metadata": {
        "id": "n9akaHPDfsIO"
      },
      "source": [
        "####Explore os dados para ver se há algum valor ausente.\n",
        "\n",
        "####Começe olhando os tipos de dados das features."
      ]
    },
    {
      "cell_type": "code",
      "execution_count": null,
      "id": "contemporary-result",
      "metadata": {
        "id": "contemporary-result"
      },
      "outputs": [],
      "source": [
        "telecom_cust.dtypes"
      ]
    },
    {
      "cell_type": "markdown",
      "id": "G7GWzZCfgemO",
      "metadata": {
        "id": "G7GWzZCfgemO"
      },
      "source": [
        "####Qual o tipo de `CobrançaTotal`?\n",
        "\n",
        "####Converta `CobrançaTotal` para um valor numérico."
      ]
    },
    {
      "cell_type": "code",
      "execution_count": null,
      "id": "paperback-engineering",
      "metadata": {
        "id": "paperback-engineering"
      },
      "outputs": [],
      "source": [
        "telecom_cust.CobrançaTotal = pd.to_numeric(telecom_cust.CobrançaTotal, errors='coerce')"
      ]
    },
    {
      "cell_type": "markdown",
      "id": "o4Fnb1PPg5Wo",
      "metadata": {
        "id": "o4Fnb1PPg5Wo"
      },
      "source": [
        "####Agora verifique os valores ausentes.\n",
        "\n",
        "Quantos valores estão ausentes?"
      ]
    },
    {
      "cell_type": "code",
      "execution_count": null,
      "id": "oa3qoweug_Nd",
      "metadata": {
        "id": "oa3qoweug_Nd"
      },
      "outputs": [],
      "source": [
        "telecom_cust.isnull().sum()"
      ]
    },
    {
      "cell_type": "markdown",
      "id": "AGLyW83Qmlv1",
      "metadata": {
        "id": "AGLyW83Qmlv1"
      },
      "source": [
        "####Remova as linhas com valores ausentes.\n",
        "\n",
        "*Obs: Essa é a **pior** abordagem possível. Porque?*"
      ]
    },
    {
      "cell_type": "code",
      "execution_count": null,
      "id": "b1b06a05",
      "metadata": {
        "id": "b1b06a05"
      },
      "outputs": [],
      "source": [
        "telecom_cust.dropna(inplace=True)"
      ]
    },
    {
      "cell_type": "markdown",
      "id": "pJX1OlMNoLA2",
      "metadata": {
        "id": "pJX1OlMNoLA2"
      },
      "source": [
        "####Verifique os valores de `Evasão`\n",
        "\n",
        "Como os valores estão distribuídos?"
      ]
    },
    {
      "cell_type": "code",
      "execution_count": null,
      "id": "c13a47c1",
      "metadata": {
        "id": "c13a47c1"
      },
      "outputs": [],
      "source": [
        "telecom_cust.Evasão.value_counts()"
      ]
    },
    {
      "cell_type": "markdown",
      "id": "N2hRVbVzo5zj",
      "metadata": {
        "id": "N2hRVbVzo5zj"
      },
      "source": [
        "####Converta `Evasão` em uma variável numérica binária"
      ]
    },
    {
      "cell_type": "code",
      "execution_count": null,
      "id": "durable-radar",
      "metadata": {
        "id": "durable-radar"
      },
      "outputs": [],
      "source": [
        "telecom_cust['Evasão'].replace(to_replace='Sim', value=1, inplace=True)\n",
        "telecom_cust['Evasão'].replace(to_replace='Não',  value=0, inplace=True)"
      ]
    },
    {
      "cell_type": "markdown",
      "id": "j9idcYNrsgi9",
      "metadata": {
        "id": "j9idcYNrsgi9"
      },
      "source": [
        "#### Realize a Codificação One Hot (One Hot Encoding) para transformar as variáveis categóricas em features (colunas).\n",
        "\n",
        "Obs: Faça isso com todas as variáveis categóricas, excluindo `IDCliente`"
      ]
    },
    {
      "cell_type": "code",
      "execution_count": null,
      "id": "aMMutW0Hsg3_",
      "metadata": {
        "id": "aMMutW0Hsg3_"
      },
      "outputs": [],
      "source": [
        "df_dummies = pd.get_dummies(telecom_cust.drop('IDCliente', axis=1))"
      ]
    },
    {
      "cell_type": "markdown",
      "id": "N9mJZEe1xrLM",
      "metadata": {
        "id": "N9mJZEe1xrLM"
      },
      "source": [
        "####Dê uma espiada em como ficarm os dados"
      ]
    },
    {
      "cell_type": "code",
      "execution_count": null,
      "id": "jBxAUqVCxwfy",
      "metadata": {
        "id": "jBxAUqVCxwfy"
      },
      "outputs": [],
      "source": [
        "df_dummies.head()"
      ]
    },
    {
      "cell_type": "markdown",
      "id": "mdyN96Yexzoy",
      "metadata": {
        "id": "mdyN96Yexzoy"
      },
      "source": [
        "#### Agora que consegue fazer a análise, investigue a correlação de `Evasão` com as outras features"
      ]
    },
    {
      "cell_type": "code",
      "execution_count": null,
      "id": "streaming-triple",
      "metadata": {
        "id": "streaming-triple"
      },
      "outputs": [],
      "source": [
        "df_dummies.corr()['Evasão'].sort_values(ascending = False)"
      ]
    },
    {
      "cell_type": "markdown",
      "id": "i0LeHw1UyVyk",
      "metadata": {
        "id": "i0LeHw1UyVyk"
      },
      "source": [
        "#### Plote um gráfico da correlação para melhor visualização"
      ]
    },
    {
      "cell_type": "code",
      "execution_count": null,
      "id": "43f9ded8",
      "metadata": {
        "id": "43f9ded8"
      },
      "outputs": [],
      "source": [
        "plt.figure(figsize=(15,8))\n",
        "df_dummies.corr()['Evasão'].sort_values(ascending = False).plot(kind='bar')"
      ]
    },
    {
      "cell_type": "markdown",
      "id": "fiscal-batman",
      "metadata": {
        "id": "fiscal-batman"
      },
      "source": [
        "####`Contrato_Mensal`, ausência de `SegurançaOnline` e `SuporteTécnico` estão positivamente correlacionados evasão. Em contrapartida, `TempoContrato` longo, ter `Contrato` de `Dois anos` e `Sem serviço de internet` estão negativamente correlacionados com a evasão.\n",
        "\n",
        "#### Curiosamente, serviços como `SegurançaOnline`, `StreamingTV`, `BackupOnline`, `SuporteTécnico`, etc. \"sem conexão com a Internet\" parecem estar negativamente correlacionados com a evaão.\n",
        "\n",
        "#### Explore os padrões das correlações acima antes de se aprofundar na modelagem e na identificação das variáveis importantes para seu modelo."
      ]
    },
    {
      "cell_type": "markdown",
      "id": "foster-hollywood",
      "metadata": {
        "id": "foster-hollywood"
      },
      "source": [
        "## Rápida EDA (Análise Exploratória de Dados)\n",
        "\n",
        "Comece primeiro explorando o conjunto de dados para compreender melhor os padrões nos dados e, potencialmente, formar algumas hipóteses. Comece examinando a distribuição de variáveis individuais e, em seguida, vasculhe os dados em busca de quaisquer tendências interessantes.\n",
        "\n",
        "### 1. Demografia - Comece tentando entender o sexo, faixa etária, cônjuge e dependentes dos clientes\n",
        "\n",
        "\n",
        "#### Qual a porcentagem de cliente Feminino e Masculino?"
      ]
    },
    {
      "cell_type": "code",
      "execution_count": null,
      "id": "spoken-universe",
      "metadata": {
        "id": "spoken-universe"
      },
      "outputs": [],
      "source": [
        "colors = ['#4D3425','#E4512B']\n",
        "ax = (telecom_cust['Gênero'].value_counts()*100.0 /len(telecom_cust)).plot(kind='bar')\n",
        "ax.set_ylabel('% Clientes')\n",
        "ax.set_xlabel('Gênero')\n",
        "ax.set_ylabel('% Clientes')\n",
        "ax.set_title('Distribuição de Gênero')\n",
        "\n",
        "# Para decorar a barra da esquerda e colocar rótulos nas barras\n",
        "# crie uma lista para coletar os dados de plt.patches\n",
        "totals = []\n",
        "\n",
        "# encontre os valores e acrescente à lista\n",
        "for i in ax.patches:\n",
        "    totals.append(i.get_width())\n",
        "\n",
        "# defina rótulos de barras individuais usando a lista acima\n",
        "total = sum(totals)\n",
        "\n",
        "for i in ax.patches:\n",
        "    # get_width empurra para a esquerda ou para a direita;\n",
        "    # get_y empurra para cima ou para baixo\n",
        "    ax.text(i.get_x()+.15, i.get_height()-3.5, \\\n",
        "            str(round((i.get_height()/total), 1))+'%',\n",
        "            fontsize=12,\n",
        "            color='white',\n",
        "           weight = 'bold')\n"
      ]
    },
    {
      "cell_type": "markdown",
      "id": "1fb154f1",
      "metadata": {
        "id": "1fb154f1"
      },
      "source": [
        "### Qual é o gasto máximo e a média de gasto mensal entre os clientes do sexo feminino e masculino?"
      ]
    },
    {
      "cell_type": "code",
      "execution_count": null,
      "id": "fe03d438",
      "metadata": {
        "id": "fe03d438"
      },
      "outputs": [],
      "source": [
        "telecom_cust.groupby('Gênero')['CobrançaMensal'].agg(['mean', 'max'])"
      ]
    },
    {
      "cell_type": "markdown",
      "id": "still-speed",
      "metadata": {
        "id": "still-speed"
      },
      "source": [
        "### Quantos % são idosos?"
      ]
    },
    {
      "cell_type": "code",
      "execution_count": null,
      "id": "computational-generation",
      "metadata": {
        "id": "computational-generation"
      },
      "outputs": [],
      "source": [
        "ax = (telecom_cust['Idoso'].value_counts()*100.0 /len(telecom_cust))\\\n",
        ".plot.pie(autopct='%.1f%%', labels = ['Não', 'Sim'],figsize =(5,5), fontsize = 12 )\n",
        "ax.set_ylabel('Idosos',fontsize = 12)\n",
        "ax.set_title('% de Idosos', fontsize = 12);"
      ]
    },
    {
      "cell_type": "markdown",
      "id": "36943a09",
      "metadata": {
        "id": "36943a09"
      },
      "source": [
        "### Qual é o gasto máximo e a média de gasto mensal entre os clientes idosos?"
      ]
    },
    {
      "cell_type": "code",
      "execution_count": null,
      "id": "96a21b3a",
      "metadata": {
        "id": "96a21b3a"
      },
      "outputs": [],
      "source": [
        "telecom_cust.groupby('Idoso')['CobrançaMensal'].agg(['mean', 'max', 'median'])"
      ]
    },
    {
      "cell_type": "markdown",
      "id": "silent-determination",
      "metadata": {
        "id": "silent-determination"
      },
      "source": [
        "### Quantos clientes tem cônjuge e quantos têm dependente?"
      ]
    },
    {
      "cell_type": "code",
      "execution_count": null,
      "id": "french-watch",
      "metadata": {
        "id": "french-watch"
      },
      "outputs": [],
      "source": [
        "df2 = pd.melt(telecom_cust, id_vars=['IDCliente'], value_vars=['Dependentes','Cônjuje'])\n",
        "df3 = df2.groupby(['variable','value']).count().unstack()\n",
        "df3 = df3*100/len(telecom_cust)\n",
        "\n",
        "ax = df3.loc[:,'IDCliente'].plot.bar(stacked=True,\n",
        "                                      figsize=(8,6),rot = 0,\n",
        "                                     width = 0.2)\n",
        "\n",
        "ax.set_ylabel('% Clientes',size = 14)\n",
        "ax.set_xlabel('')\n",
        "ax.set_title('% Clientes com Dependentes e Cônjujes',size = 14)\n",
        "ax.legend(loc = 'center',prop={'size':14})"
      ]
    },
    {
      "cell_type": "markdown",
      "id": "c5033e5e",
      "metadata": {
        "id": "c5033e5e"
      },
      "source": [
        "### Quem gasta mais entre os clientes com  com Conjujes e clientes sem Conjujes?"
      ]
    },
    {
      "cell_type": "code",
      "execution_count": null,
      "id": "24e8a831",
      "metadata": {
        "id": "24e8a831"
      },
      "outputs": [],
      "source": [
        "telecom_cust.groupby('Cônjuje')['CobrançaMensal'].agg(['mean', 'max', 'median'])"
      ]
    },
    {
      "cell_type": "markdown",
      "id": "2f1103c9",
      "metadata": {
        "id": "2f1103c9"
      },
      "source": [
        "## 2. TempoContrato e tipo de Contrato"
      ]
    },
    {
      "cell_type": "markdown",
      "id": "ecfe0bec",
      "metadata": {
        "id": "ecfe0bec"
      },
      "source": [
        "### Obtenha a distribuição de clientes por `TempoContrato` e observe os resultados."
      ]
    },
    {
      "cell_type": "code",
      "execution_count": null,
      "id": "jvDr-aqKjOgf",
      "metadata": {
        "id": "jvDr-aqKjOgf"
      },
      "outputs": [],
      "source": [
        "ax = sns.histplot(telecom_cust['TempoContrato'], bins=int(180/5))\n",
        "ax.set_ylabel('# dos Clientes')\n",
        "ax.set_xlabel('TempoContrato (meses)')\n",
        "ax.set_title('# de Clientes pelo seu TempoContrato')"
      ]
    },
    {
      "cell_type": "markdown",
      "id": "living-adult",
      "metadata": {
        "id": "living-adult"
      },
      "source": [
        "### Qual o tipo de contrato preferido pelos assinantes?"
      ]
    },
    {
      "cell_type": "code",
      "execution_count": null,
      "id": "creative-waters",
      "metadata": {
        "id": "creative-waters"
      },
      "outputs": [],
      "source": [
        "ax = telecom_cust['Contrato'].value_counts().plot(kind = 'bar',rot = 0, width = 0.3)\n",
        "ax.set_ylabel('# de Clientes')\n",
        "ax.set_title('# de Clientes por tipo de Contrato');"
      ]
    },
    {
      "cell_type": "markdown",
      "id": "vertical-abraham",
      "metadata": {
        "id": "vertical-abraham"
      },
      "source": [
        "### Como o TempoContrato depende do tipo de Contrato?"
      ]
    },
    {
      "cell_type": "code",
      "execution_count": null,
      "id": "passing-bleeding",
      "metadata": {
        "id": "passing-bleeding"
      },
      "outputs": [],
      "source": [
        "fig, (ax1,ax2,ax3) = plt.subplots(nrows=1, ncols=3, sharey = True, figsize = (20,6))\n",
        "\n",
        "ax = sns.histplot(telecom_cust[telecom_cust['Contrato']=='Mensal']['TempoContrato'],\n",
        "                   bins=int(180/5), color = 'turquoise',\n",
        "                 ax=ax1)\n",
        "ax.set_ylabel('# de Clientes')\n",
        "ax.set_xlabel('TempoContrato (meses)')\n",
        "ax.set_title('Contrato Mensal')\n",
        "\n",
        "ax = sns.histplot(telecom_cust[telecom_cust['Contrato']=='Um ano']['TempoContrato'],\n",
        "                   bins=int(180/5), color = 'steelblue',\n",
        "                 ax=ax2)\n",
        "ax.set_xlabel('TempoContrato (meses)')\n",
        "ax.set_title('Contrato de um ano')\n",
        "\n",
        "ax = sns.histplot(telecom_cust[telecom_cust['Contrato']=='Dois anos']['TempoContrato'],\n",
        "                   bins=int(180/5), color = 'darkblue',\n",
        "                 ax=ax3)\n",
        "\n",
        "ax.set_xlabel('TempoContrato (meses)')\n",
        "ax.set_title('Contrato de dois anos');\n"
      ]
    },
    {
      "cell_type": "markdown",
      "id": "macro-audit",
      "metadata": {
        "id": "macro-audit"
      },
      "source": [
        "Os clientes do Contrato de 2 anos são mais leais: a maioria dos clientes mensais usa serviços por 1-2 meses no total, enquanto a maioria dos clientes do Contrato de 2 anos usa serviços por mais de 50 meses (> 4 anos)."
      ]
    },
    {
      "cell_type": "markdown",
      "id": "bd6ba63d",
      "metadata": {
        "id": "bd6ba63d"
      },
      "source": [
        "## 3. E quanto aos serviços adicionais?"
      ]
    },
    {
      "cell_type": "code",
      "execution_count": null,
      "id": "afraid-escape",
      "metadata": {
        "id": "afraid-escape"
      },
      "outputs": [],
      "source": [
        "servicos = ['LinhaTelefone','MúltiplasLinhas','ServicoInternet','SegurançaOnline',\n",
        "           'BackupOnline','ProteçãoDispositivos','SuporteTecnico','StreamingTV','StreamingFilmes']\n",
        "\n",
        "fig, axes = plt.subplots(nrows = 3,ncols = 3,figsize = (15,12))\n",
        "for i, item in enumerate(servicos):\n",
        "    if i < 3:\n",
        "        ax = telecom_cust[item].value_counts().plot(kind = 'bar',ax=axes[i,0],rot = 0)\n",
        "\n",
        "    elif i >=3 and i < 6:\n",
        "        ax = telecom_cust[item].value_counts().plot(kind = 'bar',ax=axes[i-3,1],rot = 0)\n",
        "\n",
        "    elif i < 9:\n",
        "        ax = telecom_cust[item].value_counts().plot(kind = 'bar',ax=axes[i-6,2],rot = 0)\n",
        "    ax.set_title(item)\n"
      ]
    },
    {
      "cell_type": "markdown",
      "id": "01fbc963",
      "metadata": {
        "id": "01fbc963"
      },
      "source": [
        "### Existe diferença entre clientes idosos ou não, em relação à `ServicoInternet`?"
      ]
    },
    {
      "cell_type": "code",
      "execution_count": null,
      "id": "3cfeb568",
      "metadata": {
        "id": "3cfeb568"
      },
      "outputs": [],
      "source": [
        "telecom_cust.groupby('Idoso')['ServicoInternet'].value_counts() * 100/len(telecom_cust)"
      ]
    },
    {
      "cell_type": "markdown",
      "id": "c43c30e3",
      "metadata": {
        "id": "c43c30e3"
      },
      "source": [
        "### Observamos a mesma tendência para `SuporteTecnico`?"
      ]
    },
    {
      "cell_type": "code",
      "execution_count": null,
      "id": "36f854b0",
      "metadata": {
        "id": "36f854b0"
      },
      "outputs": [],
      "source": [
        "telecom_cust.groupby('Idoso')['SuporteTecnico'].value_counts()"
      ]
    },
    {
      "cell_type": "markdown",
      "id": "1f204d08",
      "metadata": {
        "id": "1f204d08"
      },
      "source": [
        "# 4. E quanto à evasão (o que queremos analisar)?"
      ]
    },
    {
      "cell_type": "markdown",
      "id": "bd06324a",
      "metadata": {
        "id": "bd06324a"
      },
      "source": [
        "### Qual percentual de clientes não evadem qual percentual que evadem?"
      ]
    },
    {
      "cell_type": "code",
      "execution_count": null,
      "id": "3e15dff9",
      "metadata": {
        "id": "3e15dff9"
      },
      "outputs": [],
      "source": [
        "telecom_cust['Evasão'].value_counts() / len(telecom_cust) * 100"
      ]
    },
    {
      "cell_type": "markdown",
      "id": "3b077336",
      "metadata": {
        "id": "3b077336"
      },
      "source": [
        "### Qual a média de `TempoContrato` entre os clientes que evadem e não evadem?"
      ]
    },
    {
      "cell_type": "code",
      "execution_count": null,
      "id": "ff331fd9",
      "metadata": {
        "id": "ff331fd9"
      },
      "outputs": [],
      "source": [
        "telecom_cust.groupby('Evasão').TempoContrato.agg(['mean', 'median', 'std'])"
      ]
    },
    {
      "cell_type": "markdown",
      "id": "4b5724ee",
      "metadata": {
        "id": "4b5724ee"
      },
      "source": [
        "### Qual a média de evasão por tipo de `Contrato`?"
      ]
    },
    {
      "cell_type": "code",
      "execution_count": null,
      "id": "2388d632",
      "metadata": {
        "id": "2388d632"
      },
      "outputs": [],
      "source": [
        "telecom_cust.groupby('Contrato').Evasão.mean()"
      ]
    },
    {
      "cell_type": "markdown",
      "id": "I44sWdgjF3Xa",
      "metadata": {
        "id": "I44sWdgjF3Xa"
      },
      "source": [
        "## Exercícios\n",
        "\n",
        "a) Qual a taxa de evasão e não evasão entre os clientes idosos e não idosos? Plote um gráfico com esses dados."
      ]
    },
    {
      "cell_type": "code",
      "execution_count": null,
      "id": "tAWX_3VWGLs9",
      "metadata": {
        "id": "tAWX_3VWGLs9"
      },
      "outputs": [],
      "source": []
    },
    {
      "cell_type": "markdown",
      "id": "CMSMQq81GMKp",
      "metadata": {
        "id": "CMSMQq81GMKp"
      },
      "source": [
        "b) Qual a distribuição de valores de cobrança mensal entre os clientes que evadiram?"
      ]
    },
    {
      "cell_type": "code",
      "execution_count": null,
      "id": "Cstsuc3-G2Ec",
      "metadata": {
        "id": "Cstsuc3-G2Ec"
      },
      "outputs": [],
      "source": []
    },
    {
      "cell_type": "markdown",
      "id": "jMzgOyc5G2x4",
      "metadata": {
        "id": "jMzgOyc5G2x4"
      },
      "source": [
        "c) Qual a distribuição de valores de cobrança mensal entre os clientes que **não** evadiram?"
      ]
    },
    {
      "cell_type": "code",
      "execution_count": null,
      "id": "746qh1BPHPCL",
      "metadata": {
        "id": "746qh1BPHPCL"
      },
      "outputs": [],
      "source": []
    },
    {
      "cell_type": "markdown",
      "id": "vIxfZLUIHQrl",
      "metadata": {
        "id": "vIxfZLUIHQrl"
      },
      "source": [
        "d) Qual a distribuição de valores de cobrança total entre os clientes que evadiram e não evadiram? Plote um gráfico comparando os dois,"
      ]
    },
    {
      "cell_type": "code",
      "execution_count": null,
      "id": "WHyASW8NHfFy",
      "metadata": {
        "id": "WHyASW8NHfFy"
      },
      "outputs": [],
      "source": []
    }
  ],
  "metadata": {
    "colab": {
      "provenance": []
    },
    "kernelspec": {
      "display_name": "Python 3",
      "language": "python",
      "name": "python3"
    },
    "language_info": {
      "codemirror_mode": {
        "name": "ipython",
        "version": 3
      },
      "file_extension": ".py",
      "mimetype": "text/x-python",
      "name": "python",
      "nbconvert_exporter": "python",
      "pygments_lexer": "ipython3",
      "version": "3.8.8"
    }
  },
  "nbformat": 4,
  "nbformat_minor": 5
}
