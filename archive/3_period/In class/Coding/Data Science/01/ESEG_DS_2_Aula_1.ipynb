{
  "cells": [
    {
      "cell_type": "markdown",
      "metadata": {
        "id": "ua3VceSYMbVQ"
      },
      "source": [
        "# **ESEG - Data Science II**\n",
        "\n",
        "**Aula 1 - Trabalhando com numpy**"
      ]
    },
    {
      "cell_type": "code",
      "execution_count": 4,
      "metadata": {
        "id": "UJbSO4d_MnMc"
      },
      "outputs": [],
      "source": [
        "# importando o numpy\n",
        "import numpy as np"
      ]
    },
    {
      "cell_type": "markdown",
      "metadata": {
        "id": "JAGBvbmJOQEC"
      },
      "source": [
        "Arrays - forma mais prática de trabalhar com lista de valores"
      ]
    },
    {
      "cell_type": "code",
      "execution_count": 5,
      "metadata": {
        "colab": {
          "base_uri": "https://localhost:8080/"
        },
        "id": "XRvF7AqROJnT",
        "outputId": "0bda0db7-1679-44a7-a303-1c8c9b3db68d"
      },
      "outputs": [
        {
          "data": {
            "text/plain": [
              "array([1, 2, 3])"
            ]
          },
          "execution_count": 5,
          "metadata": {},
          "output_type": "execute_result"
        }
      ],
      "source": [
        "# Array unidimensional\n",
        "np.array([1,2,3])"
      ]
    },
    {
      "cell_type": "code",
      "execution_count": 6,
      "metadata": {
        "colab": {
          "base_uri": "https://localhost:8080/"
        },
        "id": "hwH0g79NObjs",
        "outputId": "6d8db279-c689-419f-ae44-0e17a02e90b7"
      },
      "outputs": [
        {
          "data": {
            "text/plain": [
              "array([[1, 2, 3],\n",
              "       [4, 5, 6]])"
            ]
          },
          "execution_count": 6,
          "metadata": {},
          "output_type": "execute_result"
        }
      ],
      "source": [
        "# Array bidimensional\n",
        "np.array([[1,2,3],[4,5,6]])"
      ]
    },
    {
      "cell_type": "code",
      "execution_count": 9,
      "metadata": {
        "colab": {
          "base_uri": "https://localhost:8080/"
        },
        "id": "0c1fjBHkOgsZ",
        "outputId": "baba5832-ffa0-433b-b110-9ad2a285f5bd"
      },
      "outputs": [
        {
          "data": {
            "text/plain": [
              "array([[[1, 2, 3],\n",
              "        [4, 5, 6]],\n",
              "\n",
              "       [[1, 2, 3],\n",
              "        [4, 5, 6]]])"
            ]
          },
          "execution_count": 9,
          "metadata": {},
          "output_type": "execute_result"
        }
      ],
      "source": [
        "# Array tridimensional\n",
        "np.array([[[1,2,3],[4,5,6]],[[1,2,3],[4,5,6]]])"
      ]
    },
    {
      "cell_type": "markdown",
      "metadata": {
        "id": "kI0GyGjoQzfc"
      },
      "source": [
        "Podemos criar arrays específicos preenchidos por zeros ou uns:"
      ]
    },
    {
      "cell_type": "code",
      "execution_count": 10,
      "metadata": {
        "colab": {
          "base_uri": "https://localhost:8080/"
        },
        "id": "yp0jvTHuRAri",
        "outputId": "926f27d3-e8d3-4fa1-f651-8aa44f034fbc"
      },
      "outputs": [
        {
          "data": {
            "text/plain": [
              "array([[1., 1.],\n",
              "       [1., 1.]])"
            ]
          },
          "execution_count": 10,
          "metadata": {},
          "output_type": "execute_result"
        }
      ],
      "source": [
        "one = np.ones([2,2])\n",
        "one"
      ]
    },
    {
      "cell_type": "code",
      "execution_count": 18,
      "metadata": {
        "colab": {
          "base_uri": "https://localhost:8080/"
        },
        "id": "s1KlLPRDRH29",
        "outputId": "00af035c-19c0-42e3-a4f2-1628cfb8d55a"
      },
      "outputs": [
        {
          "data": {
            "text/plain": [
              "array([[[0., 0.],\n",
              "        [0., 0.]],\n",
              "\n",
              "       [[0., 0.],\n",
              "        [0., 0.]]])"
            ]
          },
          "execution_count": 18,
          "metadata": {},
          "output_type": "execute_result"
        }
      ],
      "source": [
        "zeros = np.zeros([2,2,2])\n",
        "zeros"
      ]
    },
    {
      "cell_type": "markdown",
      "metadata": {
        "id": "3jXDrbYrRURL"
      },
      "source": [
        "Podemos acessar elementos dos arrays indicando a sua posição:"
      ]
    },
    {
      "cell_type": "code",
      "execution_count": 14,
      "metadata": {
        "id": "4FT0IqdARXo_"
      },
      "outputs": [],
      "source": [
        "data = np.array([0,1,2,3,4,5,6,7,8,9])"
      ]
    },
    {
      "cell_type": "markdown",
      "metadata": {
        "id": "PQpmoa0cRrTW"
      },
      "source": [
        "Acessando o elemento na posição 2. Lembrando que o array inicia na posição 0:"
      ]
    },
    {
      "cell_type": "code",
      "execution_count": 19,
      "metadata": {
        "colab": {
          "base_uri": "https://localhost:8080/"
        },
        "id": "G3sZoq3YRc3S",
        "outputId": "f6edfe4b-4f95-4984-8098-10edf8814faa"
      },
      "outputs": [
        {
          "data": {
            "text/plain": [
              "2"
            ]
          },
          "execution_count": 19,
          "metadata": {},
          "output_type": "execute_result"
        }
      ],
      "source": [
        "data[2]"
      ]
    },
    {
      "cell_type": "markdown",
      "metadata": {
        "id": "NcPx6HAhRs89"
      },
      "source": [
        "Acessando os elementos presentes em um intervalo do array:"
      ]
    },
    {
      "cell_type": "code",
      "execution_count": 20,
      "metadata": {
        "colab": {
          "base_uri": "https://localhost:8080/"
        },
        "id": "OG0i9lEsRw6k",
        "outputId": "9b60dc84-6311-43ec-f15d-f4ef0139a70e"
      },
      "outputs": [
        {
          "data": {
            "text/plain": [
              "array([2, 3, 4])"
            ]
          },
          "execution_count": 20,
          "metadata": {},
          "output_type": "execute_result"
        }
      ],
      "source": [
        "data[2:5]"
      ]
    },
    {
      "cell_type": "markdown",
      "metadata": {
        "id": "-sN6DoFNSfsc"
      },
      "source": [
        "Array com mais de uma dimensão. Acessando os elementos:"
      ]
    },
    {
      "cell_type": "code",
      "execution_count": 21,
      "metadata": {
        "colab": {
          "base_uri": "https://localhost:8080/"
        },
        "id": "vkSk926wSl11",
        "outputId": "9d8bad30-2a4b-4c47-e7bd-4523d93fadbd"
      },
      "outputs": [
        {
          "data": {
            "text/plain": [
              "array([[1, 2, 3],\n",
              "       [4, 5, 6],\n",
              "       [7, 8, 9]])"
            ]
          },
          "execution_count": 21,
          "metadata": {},
          "output_type": "execute_result"
        }
      ],
      "source": [
        "vet = np.array([[1,2,3],[4,5,6],[7,8,9]])\n",
        "vet"
      ]
    },
    {
      "cell_type": "markdown",
      "metadata": {
        "id": "cGvqbrXWS7Qo"
      },
      "source": [
        "Da mesma forma como o array unidimensional, a contagem de linha e coluna inicia no 0,0. Desta forma para buscar elementos no array bidimensional usamos:\n",
        "\n",
        "**linha : coluna**"
      ]
    },
    {
      "cell_type": "code",
      "execution_count": 22,
      "metadata": {
        "colab": {
          "base_uri": "https://localhost:8080/"
        },
        "id": "BfAO8QGxSegI",
        "outputId": "3c2b3903-a77a-4107-ae36-0d5662c90b44"
      },
      "outputs": [
        {
          "data": {
            "text/plain": [
              "array([4, 5, 6])"
            ]
          },
          "execution_count": 22,
          "metadata": {},
          "output_type": "execute_result"
        }
      ],
      "source": [
        "# segunda linha sem restrição de coluna\n",
        "vet[1,:] "
      ]
    },
    {
      "cell_type": "code",
      "execution_count": 23,
      "metadata": {
        "colab": {
          "base_uri": "https://localhost:8080/"
        },
        "id": "4LT2w_qHTU4a",
        "outputId": "8af04cde-1f93-494d-98c3-d6840909f002"
      },
      "outputs": [
        {
          "data": {
            "text/plain": [
              "array([3, 6, 9])"
            ]
          },
          "execution_count": 23,
          "metadata": {},
          "output_type": "execute_result"
        }
      ],
      "source": [
        "# terceira coluna de todas as linhas\n",
        "vet[:,2]"
      ]
    },
    {
      "cell_type": "code",
      "execution_count": 24,
      "metadata": {
        "colab": {
          "base_uri": "https://localhost:8080/"
        },
        "id": "LtIGgP-ETdWp",
        "outputId": "da83e241-2157-4894-adc6-f7859f847321"
      },
      "outputs": [
        {
          "data": {
            "text/plain": [
              "5"
            ]
          },
          "execution_count": 24,
          "metadata": {},
          "output_type": "execute_result"
        }
      ],
      "source": [
        "# elemento existente na posição 1,1\n",
        "vet[1,1]"
      ]
    },
    {
      "cell_type": "markdown",
      "metadata": {
        "id": "nun6i18jTqnW"
      },
      "source": [
        "Considerando agora duas matriz de 2 por 2:"
      ]
    },
    {
      "cell_type": "code",
      "execution_count": 25,
      "metadata": {
        "colab": {
          "base_uri": "https://localhost:8080/"
        },
        "id": "wEmt_ge9Tnqx",
        "outputId": "47f512b8-afba-4a4c-91c8-833490c6a4b6"
      },
      "outputs": [
        {
          "data": {
            "text/plain": [
              "array([[[1, 2],\n",
              "        [3, 4]],\n",
              "\n",
              "       [[5, 6],\n",
              "        [7, 8]]])"
            ]
          },
          "execution_count": 25,
          "metadata": {},
          "output_type": "execute_result"
        }
      ],
      "source": [
        "arr = np.array([[[1,2],[3,4]],[[5,6],[7,8]]])\n",
        "arr"
      ]
    },
    {
      "cell_type": "code",
      "execution_count": 26,
      "metadata": {
        "colab": {
          "base_uri": "https://localhost:8080/"
        },
        "id": "bEVqdecjURVG",
        "outputId": "5fe2f1b1-9f6e-4ea6-fe2f-315f5c398c97"
      },
      "outputs": [
        {
          "data": {
            "text/plain": [
              "(2, 2, 2)"
            ]
          },
          "execution_count": 26,
          "metadata": {},
          "output_type": "execute_result"
        }
      ],
      "source": [
        "arr.shape"
      ]
    },
    {
      "cell_type": "markdown",
      "metadata": {
        "id": "6oHnn2vAUZ5R"
      },
      "source": [
        "Temos um \"cubo\" de informações, então a localização agora deve ser tridimensional:"
      ]
    },
    {
      "cell_type": "code",
      "execution_count": 27,
      "metadata": {
        "colab": {
          "base_uri": "https://localhost:8080/"
        },
        "id": "f6sXwZzTUT-9",
        "outputId": "8226b939-f157-4425-9976-174491326cd0"
      },
      "outputs": [
        {
          "data": {
            "text/plain": [
              "2"
            ]
          },
          "execution_count": 27,
          "metadata": {},
          "output_type": "execute_result"
        }
      ],
      "source": [
        "arr[0,0,1]"
      ]
    },
    {
      "cell_type": "code",
      "execution_count": 28,
      "metadata": {
        "colab": {
          "base_uri": "https://localhost:8080/"
        },
        "id": "BsEhjpunUfzj",
        "outputId": "f98b6e39-573c-4560-e145-e2b0b36dea1b"
      },
      "outputs": [
        {
          "data": {
            "text/plain": [
              "7"
            ]
          },
          "execution_count": 28,
          "metadata": {},
          "output_type": "execute_result"
        }
      ],
      "source": [
        "arr[1,1,0]"
      ]
    },
    {
      "cell_type": "markdown",
      "metadata": {
        "id": "5kFBL89oUrrF"
      },
      "source": [
        "Vamos agora ver como filtrar (ou fatiar) um array:"
      ]
    },
    {
      "cell_type": "code",
      "execution_count": 29,
      "metadata": {
        "colab": {
          "base_uri": "https://localhost:8080/"
        },
        "id": "FZ-e09JFUvhA",
        "outputId": "9d81ce7c-4be5-4f8f-a0eb-1b91781fe5c0"
      },
      "outputs": [
        {
          "data": {
            "text/plain": [
              "array([0, 1, 2, 3, 4, 5, 6, 7, 8, 9])"
            ]
          },
          "execution_count": 29,
          "metadata": {},
          "output_type": "execute_result"
        }
      ],
      "source": [
        "# o comando arange criar um array unidimensional com o tamanho especficado\n",
        "data = np.arange(10)\n",
        "data"
      ]
    },
    {
      "cell_type": "code",
      "execution_count": 30,
      "metadata": {
        "colab": {
          "base_uri": "https://localhost:8080/"
        },
        "id": "Ltun1GUkU8dk",
        "outputId": "33a6590f-fdf9-4608-8010-2d9815ce3a99"
      },
      "outputs": [
        {
          "data": {
            "text/plain": [
              "array([0, 1, 2, 3, 4])"
            ]
          },
          "execution_count": 30,
          "metadata": {},
          "output_type": "execute_result"
        }
      ],
      "source": [
        "data[0:5]"
      ]
    },
    {
      "cell_type": "markdown",
      "metadata": {
        "id": "Y2JBiVqXVDSQ"
      },
      "source": [
        "Alterando os elementos de um array:"
      ]
    },
    {
      "cell_type": "code",
      "execution_count": 31,
      "metadata": {
        "colab": {
          "base_uri": "https://localhost:8080/"
        },
        "id": "dbRsXfG-VF0i",
        "outputId": "8f734f5e-0a25-481e-b50b-d6ee4fa1cb33"
      },
      "outputs": [
        {
          "data": {
            "text/plain": [
              "array([-99, -99, -99, -99, -99,   5,   6,   7,   8,   9])"
            ]
          },
          "execution_count": 31,
          "metadata": {},
          "output_type": "execute_result"
        }
      ],
      "source": [
        "data[0:5] = -99\n",
        "data"
      ]
    },
    {
      "cell_type": "markdown",
      "metadata": {
        "id": "by8JysKoVMyO"
      },
      "source": [
        "Criando subgrupo do array:"
      ]
    },
    {
      "cell_type": "code",
      "execution_count": 32,
      "metadata": {
        "colab": {
          "base_uri": "https://localhost:8080/"
        },
        "id": "JUctWhJGVPek",
        "outputId": "0e562935-9fca-48ee-8fa7-7256ed5c59ce"
      },
      "outputs": [
        {
          "data": {
            "text/plain": [
              "array([-99, -99, -99, -99, -99])"
            ]
          },
          "execution_count": 32,
          "metadata": {},
          "output_type": "execute_result"
        }
      ],
      "source": [
        "data_1 = data[0:5]\n",
        "data_1"
      ]
    },
    {
      "cell_type": "code",
      "execution_count": 33,
      "metadata": {
        "colab": {
          "base_uri": "https://localhost:8080/"
        },
        "id": "D65WESIiVUCu",
        "outputId": "6c4999f6-8139-480e-a789-11634d48d03c"
      },
      "outputs": [
        {
          "data": {
            "text/plain": [
              "array([ -99,  -99, 5555, 5555,  -99,    5,    6,    7,    8,    9])"
            ]
          },
          "execution_count": 33,
          "metadata": {},
          "output_type": "execute_result"
        }
      ],
      "source": [
        "data_1[2:4] = 5555\n",
        "data"
      ]
    },
    {
      "cell_type": "markdown",
      "metadata": {
        "id": "l3fXkUhXVeXG"
      },
      "source": [
        "Realizando o fatiamento dos dados do array:"
      ]
    },
    {
      "cell_type": "code",
      "execution_count": 34,
      "metadata": {
        "colab": {
          "base_uri": "https://localhost:8080/"
        },
        "id": "qNGPMgfwViQo",
        "outputId": "5bc40cbc-a849-4299-be18-6f8458d4afbf"
      },
      "outputs": [
        {
          "data": {
            "text/plain": [
              "array([5, 6, 7, 8, 9])"
            ]
          },
          "execution_count": 34,
          "metadata": {},
          "output_type": "execute_result"
        }
      ],
      "source": [
        "data_c = data[5:].copy()\n",
        "data_c"
      ]
    },
    {
      "cell_type": "code",
      "execution_count": 35,
      "metadata": {
        "colab": {
          "base_uri": "https://localhost:8080/"
        },
        "id": "RuHvO9kPVoDP",
        "outputId": "5e711f3e-e5ed-4a0a-a25e-4c3adccad0a7"
      },
      "outputs": [
        {
          "data": {
            "text/plain": [
              "array([-99, -99, -99,   8,   9])"
            ]
          },
          "execution_count": 35,
          "metadata": {},
          "output_type": "execute_result"
        }
      ],
      "source": [
        "data_c[0:3] = -99\n",
        "data_c"
      ]
    },
    {
      "cell_type": "code",
      "execution_count": 36,
      "metadata": {
        "colab": {
          "base_uri": "https://localhost:8080/"
        },
        "id": "OBgfm4BRVvG-",
        "outputId": "23e48ade-e5fc-409b-e2b0-4e09d6a56169"
      },
      "outputs": [
        {
          "data": {
            "text/plain": [
              "array([ -99,  -99, 5555, 5555,  -99,    5,    6,    7,    8,    9])"
            ]
          },
          "execution_count": 36,
          "metadata": {},
          "output_type": "execute_result"
        }
      ],
      "source": [
        "# array original\n",
        "data"
      ]
    },
    {
      "cell_type": "markdown",
      "metadata": {
        "id": "8G9bS3m0V6OJ"
      },
      "source": [
        "Fatiamento condicional:"
      ]
    },
    {
      "cell_type": "code",
      "execution_count": 37,
      "metadata": {
        "colab": {
          "base_uri": "https://localhost:8080/"
        },
        "id": "-xUdUXsVV8jl",
        "outputId": "65662f35-747d-49b1-f40c-55046db529b2"
      },
      "outputs": [
        {
          "data": {
            "text/plain": [
              "array([6, 7, 8, 9])"
            ]
          },
          "execution_count": 37,
          "metadata": {},
          "output_type": "execute_result"
        }
      ],
      "source": [
        "data = np.arange(10)\n",
        "data[data > 5]"
      ]
    },
    {
      "cell_type": "markdown",
      "metadata": {
        "id": "JATWkCRoWTF3"
      },
      "source": [
        "Listar elementos cujo valor é igual a 4"
      ]
    },
    {
      "cell_type": "code",
      "execution_count": 38,
      "metadata": {
        "colab": {
          "base_uri": "https://localhost:8080/"
        },
        "id": "U8w82ynoWCv7",
        "outputId": "e560d623-e7f8-4893-9222-3e3371e88bab"
      },
      "outputs": [
        {
          "data": {
            "text/plain": [
              "array([4])"
            ]
          },
          "execution_count": 38,
          "metadata": {},
          "output_type": "execute_result"
        }
      ],
      "source": [
        "data[data == 4]"
      ]
    },
    {
      "cell_type": "markdown",
      "metadata": {
        "id": "zghSuHjvWV8y"
      },
      "source": [
        "Listar elementos cujo valor é diferente de 4"
      ]
    },
    {
      "cell_type": "code",
      "execution_count": 39,
      "metadata": {
        "colab": {
          "base_uri": "https://localhost:8080/"
        },
        "id": "bYdvJEVrWLz_",
        "outputId": "2f02451e-74bc-4583-f23a-6a811a61c97a"
      },
      "outputs": [
        {
          "data": {
            "text/plain": [
              "array([0, 1, 2, 3, 5, 6, 7, 8, 9])"
            ]
          },
          "execution_count": 39,
          "metadata": {},
          "output_type": "execute_result"
        }
      ],
      "source": [
        "data[data != 4]"
      ]
    },
    {
      "cell_type": "markdown",
      "metadata": {
        "id": "oKzHVsniWYlu"
      },
      "source": [
        "Listar elementos cujo valor é maior que 4"
      ]
    },
    {
      "cell_type": "code",
      "execution_count": 40,
      "metadata": {
        "colab": {
          "base_uri": "https://localhost:8080/"
        },
        "id": "2m-lY3y2WPh1",
        "outputId": "09be0a50-3909-43b7-8797-425f2e2a36ae"
      },
      "outputs": [
        {
          "data": {
            "text/plain": [
              "array([5, 6, 7, 8, 9])"
            ]
          },
          "execution_count": 40,
          "metadata": {},
          "output_type": "execute_result"
        }
      ],
      "source": [
        "data[data > 4]"
      ]
    }
  ],
  "metadata": {
    "colab": {
      "provenance": []
    },
    "kernelspec": {
      "display_name": "Python 3",
      "name": "python3"
    },
    "language_info": {
      "codemirror_mode": {
        "name": "ipython",
        "version": 3
      },
      "file_extension": ".py",
      "mimetype": "text/x-python",
      "name": "python",
      "nbconvert_exporter": "python",
      "pygments_lexer": "ipython3",
      "version": "3.11.2"
    }
  },
  "nbformat": 4,
  "nbformat_minor": 0
}
