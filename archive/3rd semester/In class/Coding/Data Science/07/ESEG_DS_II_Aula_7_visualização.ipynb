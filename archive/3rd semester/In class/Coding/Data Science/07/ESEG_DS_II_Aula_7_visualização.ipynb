{
  "cells": [
    {
      "cell_type": "markdown",
      "metadata": {
        "id": "ezkH1lbpGLnb"
      },
      "source": [
        "<h1>Visualização: 120 anos das olimpíadas</h1>\n",
        "\n",
        "\n",
        "<p>Este projeto engloba os dados das olimpiadas realizadas nos últimos 120 anos.</p>"
      ]
    },
    {
      "cell_type": "code",
      "execution_count": 2,
      "metadata": {
        "id": "fuWYYsKgGLng"
      },
      "outputs": [],
      "source": [
        "import pandas as pd"
      ]
    },
    {
      "cell_type": "code",
      "execution_count": 3,
      "metadata": {
        "colab": {
          "base_uri": "https://localhost:8080/",
          "height": 73
        },
        "id": "JrNOsMIjHrwv",
        "outputId": "ff8b9260-6302-4fad-eb6d-960ab22bd456"
      },
      "outputs": [],
      "source": [
        "# carregando dados para o Google Colab\n",
        "with open(\"atletas.txt\") as file:\n",
        "    atleta = pd.read_csv(file)\n",
        "with open(\"noc_regions.csv\") as file:\n",
        "    regiao = pd.read_csv(file)"
      ]
    },
    {
      "cell_type": "code",
      "execution_count": null,
      "metadata": {
        "colab": {
          "base_uri": "https://localhost:8080/",
          "height": 337
        },
        "id": "iYnyYx9cGLni",
        "outputId": "18f297ab-a02f-447d-daf2-0f344a78f3cb"
      },
      "outputs": [],
      "source": [
        "atleta.head()"
      ]
    },
    {
      "cell_type": "code",
      "execution_count": null,
      "metadata": {
        "colab": {
          "base_uri": "https://localhost:8080/",
          "height": 206
        },
        "id": "b5zt1RQ9GLnk",
        "outputId": "93578a2a-25f6-4d93-d9cc-b88644a16509"
      },
      "outputs": [],
      "source": [
        "regiao.head()"
      ]
    },
    {
      "cell_type": "markdown",
      "metadata": {
        "id": "doeo-kTWICS7"
      },
      "source": [
        "**União dos dataframes**"
      ]
    },
    {
      "cell_type": "code",
      "execution_count": null,
      "metadata": {
        "id": "vElnUA7zGLnl"
      },
      "outputs": [],
      "source": [
        "olim = pd.merge(atleta, regiao, on='NOC', how='left')"
      ]
    },
    {
      "cell_type": "code",
      "execution_count": null,
      "metadata": {
        "colab": {
          "base_uri": "https://localhost:8080/",
          "height": 337
        },
        "id": "l87G43SSGLnl",
        "outputId": "b407fe72-10c2-422d-dd9e-627b33eca2ae"
      },
      "outputs": [],
      "source": [
        "olim.head()"
      ]
    },
    {
      "cell_type": "code",
      "execution_count": null,
      "metadata": {
        "colab": {
          "base_uri": "https://localhost:8080/"
        },
        "id": "QVZ8_R9LGLno",
        "outputId": "647dd046-de56-4a47-ae85-feab6700af49"
      },
      "outputs": [],
      "source": [
        "olim.shape"
      ]
    },
    {
      "cell_type": "markdown",
      "metadata": {
        "id": "oq2kKufoIVEE"
      },
      "source": [
        "**Verificando quais são as colunas**"
      ]
    },
    {
      "cell_type": "code",
      "execution_count": null,
      "metadata": {
        "colab": {
          "base_uri": "https://localhost:8080/"
        },
        "id": "E_g7fQINGLnp",
        "outputId": "e288121b-7838-4e87-8404-b69c796fdee1"
      },
      "outputs": [],
      "source": [
        "olim.columns"
      ]
    },
    {
      "cell_type": "markdown",
      "metadata": {
        "id": "TfTOKlN_IX8F"
      },
      "source": [
        "**Renomeando as colunas**"
      ]
    },
    {
      "cell_type": "code",
      "execution_count": null,
      "metadata": {
        "id": "Igh_r0GXGLnq"
      },
      "outputs": [],
      "source": [
        "olim = olim.rename(columns={'Name':'Nome', 'Sex':'Sexo', 'Age':'Idade', 'Height':'Altura', 'Weight':'Peso', 'Team':'Time', 'NOC':'Sigla', 'Games':'Jogo',\n",
        "       'Year':'Ano', 'Season':'Temporada', 'City':'cidade', 'Sport':'Esporte', 'Event':'Evento', 'Medal':'Medalha', 'region':'Pais', 'notes':'Obs'})"
      ]
    },
    {
      "cell_type": "code",
      "execution_count": null,
      "metadata": {
        "colab": {
          "base_uri": "https://localhost:8080/",
          "height": 372
        },
        "id": "F3Qf2hhlGLnr",
        "outputId": "a3a50686-8db9-48e7-d791-5287d59a6818"
      },
      "outputs": [],
      "source": [
        "olim.head()"
      ]
    },
    {
      "cell_type": "markdown",
      "metadata": {
        "id": "CHLQ6uI0Iku_"
      },
      "source": [
        "**Removendo duplicidade**"
      ]
    },
    {
      "cell_type": "code",
      "execution_count": null,
      "metadata": {
        "id": "M9Z-FStFGLnt"
      },
      "outputs": [],
      "source": [
        "olim = olim.drop_duplicates()"
      ]
    },
    {
      "cell_type": "code",
      "execution_count": null,
      "metadata": {
        "colab": {
          "base_uri": "https://localhost:8080/"
        },
        "id": "jsV4wUC0GLnt",
        "outputId": "8b97cd25-d859-4c7c-903c-d036d7e8ef98"
      },
      "outputs": [],
      "source": [
        "olim.shape"
      ]
    },
    {
      "cell_type": "markdown",
      "metadata": {
        "id": "DJ5FCk8gIz3X"
      },
      "source": [
        "**Quantidade de idades, alturas e peso nulas**"
      ]
    },
    {
      "cell_type": "code",
      "execution_count": null,
      "metadata": {
        "colab": {
          "base_uri": "https://localhost:8080/"
        },
        "id": "P-v-Cs9-GLnv",
        "outputId": "0ce46ca6-2d56-43b3-cba0-7fed773f23bf"
      },
      "outputs": [],
      "source": [
        "olim.isnull().sum()"
      ]
    },
    {
      "cell_type": "markdown",
      "metadata": {
        "id": "vkgkj2efIu1F"
      },
      "source": [
        "**Verificando alturas nulas**"
      ]
    },
    {
      "cell_type": "code",
      "execution_count": null,
      "metadata": {
        "colab": {
          "base_uri": "https://localhost:8080/",
          "height": 337
        },
        "id": "hP5IFr-jGLnv",
        "outputId": "87d6e1c9-9fb8-4e58-bbf2-55498bd3a16a"
      },
      "outputs": [],
      "source": [
        "olim[olim['Altura'].isnull()].head()"
      ]
    },
    {
      "cell_type": "markdown",
      "metadata": {
        "id": "Gr8MHJ7EJEci"
      },
      "source": [
        "**Removendo valores nulos**"
      ]
    },
    {
      "cell_type": "code",
      "execution_count": null,
      "metadata": {
        "id": "TNibsqSAGLnw"
      },
      "outputs": [],
      "source": [
        "olim = olim.dropna(subset=['Peso'])\n",
        "olim = olim.dropna(subset=['Altura'])\n",
        "olim = olim.dropna(subset=['Idade'])"
      ]
    },
    {
      "cell_type": "code",
      "execution_count": null,
      "metadata": {
        "colab": {
          "base_uri": "https://localhost:8080/"
        },
        "id": "z_kpJQX5GLnw",
        "outputId": "40c36b03-e488-4af6-ee3e-ca4d7e7db398"
      },
      "outputs": [],
      "source": [
        "olim.isnull().sum()"
      ]
    },
    {
      "cell_type": "code",
      "execution_count": null,
      "metadata": {
        "colab": {
          "base_uri": "https://localhost:8080/"
        },
        "id": "3IQ9bf5cGLn2",
        "outputId": "c9dd3638-2081-4112-f1f3-47691cee8454"
      },
      "outputs": [],
      "source": [
        "olim.shape"
      ]
    },
    {
      "cell_type": "markdown",
      "metadata": {
        "id": "xRJJ2-dqJWYU"
      },
      "source": [
        "**Explorando os dados**"
      ]
    },
    {
      "cell_type": "code",
      "execution_count": null,
      "metadata": {
        "colab": {
          "base_uri": "https://localhost:8080/"
        },
        "id": "Slbxg52fGLn3",
        "outputId": "17d0e26c-bbb4-40af-c4a0-3f45921727ce"
      },
      "outputs": [],
      "source": [
        "olim['Sexo'].unique()"
      ]
    },
    {
      "cell_type": "code",
      "execution_count": null,
      "metadata": {
        "colab": {
          "base_uri": "https://localhost:8080/"
        },
        "id": "ZbB4sAtBGLn5",
        "outputId": "1e1ba662-4a9b-457f-dc4c-896d0c33ac67"
      },
      "outputs": [],
      "source": [
        "olim['Sexo'].value_counts()"
      ]
    },
    {
      "cell_type": "markdown",
      "metadata": {
        "id": "Do1agQg5JoBW"
      },
      "source": [
        "**Quantidade em percentual**"
      ]
    },
    {
      "cell_type": "code",
      "execution_count": null,
      "metadata": {
        "colab": {
          "base_uri": "https://localhost:8080/"
        },
        "id": "DRFDQPmLGLn6",
        "outputId": "f4c6bb1e-b610-4ee8-a907-35963a9f9a62"
      },
      "outputs": [],
      "source": [
        "olim['Sexo'].value_counts(normalize=True)"
      ]
    },
    {
      "cell_type": "code",
      "execution_count": null,
      "metadata": {
        "colab": {
          "base_uri": "https://localhost:8080/"
        },
        "id": "Ytsw7nRlGLn4",
        "outputId": "bd9d0680-095d-4915-ce5e-0b2615a42225"
      },
      "outputs": [],
      "source": [
        "olim['cidade'].unique()"
      ]
    },
    {
      "cell_type": "code",
      "execution_count": null,
      "metadata": {
        "colab": {
          "base_uri": "https://localhost:8080/"
        },
        "id": "BXB5hwskGLn5",
        "outputId": "1283390a-665b-4239-e8e5-f248b873e9fe"
      },
      "outputs": [],
      "source": [
        "olim['cidade'].value_counts()"
      ]
    },
    {
      "cell_type": "code",
      "execution_count": null,
      "metadata": {
        "colab": {
          "base_uri": "https://localhost:8080/"
        },
        "id": "ZZv22aLZGLn7",
        "outputId": "2c7ad2d1-49fa-4d28-c8b4-257b7eb341dc"
      },
      "outputs": [],
      "source": [
        "olim['cidade'].value_counts(normalize=True)"
      ]
    },
    {
      "cell_type": "markdown",
      "metadata": {
        "id": "J3ZUKXOfJxqE"
      },
      "source": [
        "**Verificando elementos máximos**"
      ]
    },
    {
      "cell_type": "code",
      "execution_count": null,
      "metadata": {
        "colab": {
          "base_uri": "https://localhost:8080/"
        },
        "id": "9XoShN5JGLn8",
        "outputId": "475f0737-f65b-4b23-e1d5-a3158dca6bb3"
      },
      "outputs": [],
      "source": [
        "olim['Altura'].max()"
      ]
    },
    {
      "cell_type": "code",
      "execution_count": null,
      "metadata": {
        "colab": {
          "base_uri": "https://localhost:8080/"
        },
        "id": "O0vtvvo_GLn-",
        "outputId": "7270ad4b-21e6-4d96-d3b2-07955780f3d1"
      },
      "outputs": [],
      "source": [
        "olim['Altura'].mean()"
      ]
    },
    {
      "cell_type": "code",
      "execution_count": null,
      "metadata": {
        "id": "fRJJZmDIGLn-",
        "outputId": "eaa47344-e35c-4fa3-d620-c6df35e1d4af"
      },
      "outputs": [],
      "source": [
        "olim['Altura'].describe()"
      ]
    },
    {
      "cell_type": "code",
      "execution_count": null,
      "metadata": {
        "id": "P8h6kSBHGLn_",
        "outputId": "b5785f93-a95e-40b1-ef38-eb9f1aa3e4bd"
      },
      "outputs": [],
      "source": [
        "olim['Altura'].sort_values(ascending=False).head(5)"
      ]
    },
    {
      "cell_type": "code",
      "execution_count": null,
      "metadata": {
        "id": "hqq4YSZXGLoA",
        "outputId": "3d3b4945-99e5-4bed-c2bd-0cb251e89c6c"
      },
      "outputs": [],
      "source": [
        "olim['Altura'].sort_values(ascending=True).head(10)"
      ]
    },
    {
      "cell_type": "code",
      "execution_count": null,
      "metadata": {
        "id": "wFYAvkWIGLoB",
        "outputId": "5d794b09-fe00-4d04-f79a-0f10ee9209d9"
      },
      "outputs": [],
      "source": [
        "olim[olim['Altura'] > 200].head()"
      ]
    },
    {
      "cell_type": "markdown",
      "metadata": {
        "id": "lX3gkG6TKKab"
      },
      "source": [
        "**Mudando nome do País**"
      ]
    },
    {
      "cell_type": "code",
      "execution_count": null,
      "metadata": {
        "id": "UjrU1Ed_GLoC"
      },
      "outputs": [],
      "source": [
        "olim['Time'] = olim['Time'].str.replace('Netherlands','Holanda')"
      ]
    },
    {
      "cell_type": "markdown",
      "metadata": {
        "id": "3CwfgM51KcV0"
      },
      "source": [
        "**Utilizando dataframe novo**"
      ]
    },
    {
      "cell_type": "code",
      "execution_count": null,
      "metadata": {
        "id": "5KqKPga6GLoR"
      },
      "outputs": [],
      "source": [
        "olimPais = olim"
      ]
    },
    {
      "cell_type": "code",
      "execution_count": null,
      "metadata": {
        "colab": {
          "base_uri": "https://localhost:8080/"
        },
        "id": "-Y7Nr_NxGLoR",
        "outputId": "4201a843-e274-4634-a91c-71691fb7d0f2"
      },
      "outputs": [],
      "source": [
        "olimPais.shape"
      ]
    },
    {
      "cell_type": "code",
      "execution_count": null,
      "metadata": {
        "id": "w2V4ImP3GLoS"
      },
      "outputs": [],
      "source": [
        "olimPais = olimPais.drop(columns=['ID','Nome','Peso','Altura','Idade','Sexo'])"
      ]
    },
    {
      "cell_type": "code",
      "execution_count": null,
      "metadata": {
        "colab": {
          "base_uri": "https://localhost:8080/",
          "height": 206
        },
        "id": "ZbjxCpe0GLoS",
        "outputId": "b130584a-ecbb-4bba-ad4b-490b043dbbbf"
      },
      "outputs": [],
      "source": [
        "olimPais.head()"
      ]
    },
    {
      "cell_type": "code",
      "execution_count": null,
      "metadata": {
        "colab": {
          "base_uri": "https://localhost:8080/"
        },
        "id": "tiSleoDbGLoT",
        "outputId": "cde8f539-4086-42ec-ba51-1ea102b1f2ee"
      },
      "outputs": [],
      "source": [
        "olimPais.shape"
      ]
    },
    {
      "cell_type": "code",
      "execution_count": null,
      "metadata": {
        "id": "cr4gVY4fGLoT"
      },
      "outputs": [],
      "source": [
        "olimPais = olimPais.drop_duplicates()"
      ]
    },
    {
      "cell_type": "code",
      "execution_count": null,
      "metadata": {
        "colab": {
          "base_uri": "https://localhost:8080/"
        },
        "id": "85AC9DQZGLoT",
        "outputId": "b245b4c0-21e8-4306-8b82-cac15439fd26"
      },
      "outputs": [],
      "source": [
        "olimPais.shape"
      ]
    },
    {
      "cell_type": "code",
      "execution_count": null,
      "metadata": {
        "colab": {
          "base_uri": "https://localhost:8080/",
          "height": 1000
        },
        "id": "pIb0f35WGLoU",
        "outputId": "bf0d8405-fc4a-45de-9851-a55448f75949"
      },
      "outputs": [],
      "source": [
        "olimPais[(olimPais['Medalha'] == 'Gold')].groupby(['Ano','Medalha'])[['Medalha']].count()"
      ]
    },
    {
      "cell_type": "markdown",
      "metadata": {
        "id": "5Sgy42ATLDFl"
      },
      "source": [
        "**Visualização dos dados**"
      ]
    },
    {
      "cell_type": "code",
      "execution_count": null,
      "metadata": {
        "colab": {
          "base_uri": "https://localhost:8080/",
          "height": 466
        },
        "id": "wAoWthMAGLoV",
        "outputId": "445c7d8c-7506-45db-f970-c88c1014435b"
      },
      "outputs": [],
      "source": [
        "olimPais[(olimPais['Medalha'] == 'Gold')].groupby(['Ano'])[['Medalha']].count().plot()"
      ]
    },
    {
      "cell_type": "markdown",
      "metadata": {
        "id": "ohDoW0qNLLlG"
      },
      "source": [
        "**Dataframe resumido**"
      ]
    },
    {
      "cell_type": "code",
      "execution_count": null,
      "metadata": {
        "id": "_XOGeo9MGLoW"
      },
      "outputs": [],
      "source": [
        "resumo = olimPais[(olimPais['Medalha'] == 'Gold')].groupby(['Ano'])[['Medalha']].count()"
      ]
    },
    {
      "cell_type": "code",
      "execution_count": null,
      "metadata": {
        "colab": {
          "base_uri": "https://localhost:8080/",
          "height": 238
        },
        "id": "Gj00cGkcGLoW",
        "outputId": "17a36a37-eb05-4d3f-ce0d-aa529102b158"
      },
      "outputs": [],
      "source": [
        "resumo.head()"
      ]
    },
    {
      "cell_type": "markdown",
      "metadata": {
        "id": "cVnSmFgYLRox"
      },
      "source": [
        "**Gráfico em linha**"
      ]
    },
    {
      "cell_type": "code",
      "execution_count": null,
      "metadata": {
        "colab": {
          "base_uri": "https://localhost:8080/",
          "height": 466
        },
        "id": "ugm5wfiGGLoW",
        "outputId": "e1e6183d-d9fc-4daf-b6f9-66d736dff47c"
      },
      "outputs": [],
      "source": [
        "resumo.plot()"
      ]
    },
    {
      "cell_type": "markdown",
      "metadata": {
        "id": "bhwt_j1eLUCV"
      },
      "source": [
        "***Gráfico em barra***"
      ]
    },
    {
      "cell_type": "code",
      "execution_count": null,
      "metadata": {
        "id": "400KhF0kGLoX",
        "outputId": "fe82600d-c6be-41ba-d642-95b9daa0ded2"
      },
      "outputs": [],
      "source": [
        "resumo.plot(kind='bar')"
      ]
    },
    {
      "cell_type": "markdown",
      "metadata": {
        "id": "fCYfXAl3LagD"
      },
      "source": [
        "***Gráfico em barra horizontal***"
      ]
    },
    {
      "cell_type": "code",
      "execution_count": null,
      "metadata": {
        "colab": {
          "base_uri": "https://localhost:8080/",
          "height": 447
        },
        "id": "NY54e_hOGLoX",
        "outputId": "4a90dae9-794a-45c6-a687-9b00d2d728e6"
      },
      "outputs": [],
      "source": [
        "resumo.plot(kind='barh')"
      ]
    },
    {
      "cell_type": "markdown",
      "metadata": {
        "id": "_I2xEyHbLhb7"
      },
      "source": [
        "**Alterando tamanho da imagem:**"
      ]
    },
    {
      "cell_type": "code",
      "execution_count": null,
      "metadata": {
        "colab": {
          "base_uri": "https://localhost:8080/",
          "height": 503
        },
        "id": "Oj7_eYJfGLoY",
        "outputId": "59560c40-4897-4326-f176-ca1d6208e6d4"
      },
      "outputs": [],
      "source": [
        "resumo.plot(kind='bar', figsize=(11,5))"
      ]
    },
    {
      "cell_type": "code",
      "execution_count": null,
      "metadata": {
        "colab": {
          "base_uri": "https://localhost:8080/",
          "height": 349
        },
        "id": "66kAfJLeGLoZ",
        "outputId": "9f7ec209-8d0b-46b9-d1bc-b234cd21400d"
      },
      "outputs": [],
      "source": [
        "resumo.plot(kind='bar', figsize=(15,3))"
      ]
    },
    {
      "cell_type": "markdown",
      "metadata": {
        "id": "VlwG_MmhLnib"
      },
      "source": [
        "**Colocando grande:**"
      ]
    },
    {
      "cell_type": "code",
      "execution_count": null,
      "metadata": {
        "colab": {
          "base_uri": "https://localhost:8080/",
          "height": 503
        },
        "id": "EHUJrhzCGLoZ",
        "outputId": "6b2a85c7-472c-4ac6-cb68-a4a076726df2"
      },
      "outputs": [],
      "source": [
        "resumo.plot(kind='bar', figsize=(11,5), grid=True)"
      ]
    },
    {
      "cell_type": "markdown",
      "metadata": {
        "id": "eOTB4q3aLsRc"
      },
      "source": [
        "**Rotacionando informação no eixo x:**"
      ]
    },
    {
      "cell_type": "code",
      "execution_count": null,
      "metadata": {
        "colab": {
          "base_uri": "https://localhost:8080/",
          "height": 503
        },
        "id": "kiCz-GDSGLoa",
        "outputId": "65c083d7-2267-4195-ffba-871cdea46c6b"
      },
      "outputs": [],
      "source": [
        "resumo.plot(kind='bar', figsize=(11,5), grid=True, rot=45)"
      ]
    },
    {
      "cell_type": "markdown",
      "metadata": {
        "id": "fcVRgzzAL2Ho"
      },
      "source": [
        "**Mudando a cor para preto:**"
      ]
    },
    {
      "cell_type": "code",
      "execution_count": null,
      "metadata": {
        "colab": {
          "base_uri": "https://localhost:8080/",
          "height": 503
        },
        "id": "safQpIJPGLoc",
        "outputId": "3809de09-f051-44f1-fdf1-8f537c57934a"
      },
      "outputs": [],
      "source": [
        "resumo.plot(kind='bar', figsize=(11,5), grid=True, rot=45, color='black')"
      ]
    },
    {
      "cell_type": "markdown",
      "metadata": {
        "id": "xkKHZHzeMBgL"
      },
      "source": [
        "**Adicionando título:**"
      ]
    },
    {
      "cell_type": "code",
      "execution_count": null,
      "metadata": {
        "colab": {
          "base_uri": "https://localhost:8080/",
          "height": 525
        },
        "id": "AaUS1gJSGLoc",
        "outputId": "27e1de22-6590-4c15-cdd0-8770bf14ecba"
      },
      "outputs": [],
      "source": [
        "resumo.plot(kind='bar', figsize=(11,5), grid=True, rot=45, color='black', title='Categorias por ano')"
      ]
    },
    {
      "cell_type": "markdown",
      "metadata": {
        "id": "WyFmZX1cMLw0"
      },
      "source": [
        "**Ordenando quantidade de medalhas por ano**"
      ]
    },
    {
      "cell_type": "code",
      "execution_count": null,
      "metadata": {
        "colab": {
          "base_uri": "https://localhost:8080/",
          "height": 1000
        },
        "id": "y-xv95hmGLod",
        "outputId": "81b1084c-9a8c-4349-8346-8b8abbd3f022"
      },
      "outputs": [],
      "source": [
        "resumo.sort_values(by = 'Medalha', ascending = False)"
      ]
    },
    {
      "cell_type": "markdown",
      "metadata": {
        "id": "1DReqziKMWhN"
      },
      "source": [
        "**Gerando gráfico com nova ordenação:**"
      ]
    },
    {
      "cell_type": "code",
      "execution_count": null,
      "metadata": {
        "colab": {
          "base_uri": "https://localhost:8080/",
          "height": 525
        },
        "id": "H4JBxNQIGLod",
        "outputId": "5294b093-e15a-493e-adcb-9078b0c1f387"
      },
      "outputs": [],
      "source": [
        "resumo.sort_values(by = 'Medalha', ascending=False).plot(kind='bar', figsize=(11,5), grid=True, rot=45, color='black', title='Categorias por ano')"
      ]
    },
    {
      "cell_type": "code",
      "execution_count": null,
      "metadata": {
        "id": "5XW9b7seGLof",
        "outputId": "5b936eab-32d5-4feb-9db6-95c57531b16f"
      },
      "outputs": [],
      "source": [
        "olimPais[(olimPais['Sigla'] == 'BRA')].groupby(['Medalha'])[['Medalha']].count()"
      ]
    },
    {
      "cell_type": "markdown",
      "metadata": {
        "id": "kcmkvpUrMgGC"
      },
      "source": [
        "**Agrupando quantidade de medalhas gerais obtidas pelo Brasil**"
      ]
    },
    {
      "cell_type": "code",
      "execution_count": null,
      "metadata": {
        "colab": {
          "base_uri": "https://localhost:8080/",
          "height": 175
        },
        "id": "JzaAQdkoGLof",
        "outputId": "652351be-207c-486b-f998-d146f56b7d1c"
      },
      "outputs": [],
      "source": [
        "resumoP = olimPais[(olimPais['Sigla'] == 'BRA')].groupby(['Medalha'])[['Medalha']].count()\n",
        "\n",
        "resumoP.head()"
      ]
    },
    {
      "cell_type": "markdown",
      "metadata": {
        "id": "cQxg6rXbMtsq"
      },
      "source": [
        "**Gerando gráfico pizza:**"
      ]
    },
    {
      "cell_type": "code",
      "execution_count": null,
      "metadata": {
        "colab": {
          "base_uri": "https://localhost:8080/",
          "height": 423
        },
        "id": "KH0-1Y5AGLog",
        "outputId": "c6b6793c-53c6-4902-f2a7-a393e6e9e786"
      },
      "outputs": [],
      "source": [
        "resumoP.plot(kind='pie', subplots=True)"
      ]
    },
    {
      "cell_type": "markdown",
      "metadata": {
        "id": "JOLIdV_VMxnS"
      },
      "source": [
        "**Separando medalha de ouro em uma parte: (explodindo o gráfico)**"
      ]
    },
    {
      "cell_type": "code",
      "execution_count": null,
      "metadata": {
        "colab": {
          "base_uri": "https://localhost:8080/",
          "height": 423
        },
        "id": "Nqx8BiW6GLoh",
        "outputId": "8e21003d-515a-4e09-d9e9-e78c900d7cff"
      },
      "outputs": [],
      "source": [
        "resumoP.plot(kind='pie', subplots=True, explode=(0,0.1,0))"
      ]
    },
    {
      "cell_type": "markdown",
      "metadata": {
        "id": "PuJNC_gwNGup"
      },
      "source": [
        "**Trabalhando coma altura dos homens brasileiros:**"
      ]
    },
    {
      "cell_type": "code",
      "execution_count": null,
      "metadata": {
        "colab": {
          "base_uri": "https://localhost:8080/",
          "height": 466
        },
        "id": "pSBgfDgQGLok",
        "outputId": "3c8fabb0-ff66-4caf-c890-605da3f730ce"
      },
      "outputs": [],
      "source": [
        "olim[(olim['Sexo'] == 'M') & (olim['Sigla'] == 'BRA')].groupby(['Ano','Pais'])['Altura'].max().plot()"
      ]
    },
    {
      "cell_type": "code",
      "execution_count": null,
      "metadata": {
        "colab": {
          "base_uri": "https://localhost:8080/",
          "height": 547
        },
        "id": "wkkCmywTGLok",
        "outputId": "eb67f5f2-e368-4b03-ce7a-84a7006ef704"
      },
      "outputs": [],
      "source": [
        "olim[(olim['Sexo'] == 'M') & (olim['Sigla'] == 'BRA')].groupby(['Ano','Pais'])['Altura'].max().plot(kind='bar')"
      ]
    },
    {
      "cell_type": "markdown",
      "metadata": {
        "id": "8TEC_SsSNOhK"
      },
      "source": [
        "**Criando dataframe com o filtro criado:**"
      ]
    },
    {
      "cell_type": "code",
      "execution_count": null,
      "metadata": {
        "id": "WziGdFJYGLol"
      },
      "outputs": [],
      "source": [
        "altura = olim[(olim['Sexo'] == 'M') & (olim['Sigla'] == 'BRA')].groupby(['Ano','Pais'])['Altura'].max()"
      ]
    },
    {
      "cell_type": "code",
      "execution_count": null,
      "metadata": {
        "colab": {
          "base_uri": "https://localhost:8080/",
          "height": 562
        },
        "id": "lyG0oq67GLol",
        "outputId": "99937e3d-2385-4384-f8c7-1b5dc6c39fce"
      },
      "outputs": [],
      "source": [
        "altura.plot(kind='bar', figsize=(11,5))"
      ]
    },
    {
      "cell_type": "markdown",
      "metadata": {
        "id": "7_2eqm96NZCg"
      },
      "source": [
        "**Utilizando gráfico de dispersão de altura por ano:**"
      ]
    },
    {
      "cell_type": "code",
      "execution_count": null,
      "metadata": {
        "colab": {
          "base_uri": "https://localhost:8080/",
          "height": 466
        },
        "id": "z7PyLnbCGLon",
        "outputId": "42799bf9-f733-4f9c-d6c6-00ba5baa7b0d"
      },
      "outputs": [],
      "source": [
        "olim.plot.scatter(x='Ano',y='Altura', c='DarkBlue')"
      ]
    },
    {
      "cell_type": "markdown",
      "metadata": {
        "id": "5z8uPtfMNstV"
      },
      "source": [
        "**Gráfico de altura pelo peso considerando o esporte Volei:**\n"
      ]
    },
    {
      "cell_type": "code",
      "execution_count": null,
      "metadata": {
        "colab": {
          "base_uri": "https://localhost:8080/",
          "height": 466
        },
        "id": "ZZonQJ86GLoo",
        "outputId": "45d44e3a-946f-4f02-cb3d-f469d8cb3853"
      },
      "outputs": [],
      "source": [
        "olim[(olim['Sexo']=='M') & (olim['Esporte'] == 'Volleyball')].plot.scatter(x='Peso',y='Altura', c='DarkBlue')"
      ]
    },
    {
      "cell_type": "markdown",
      "metadata": {
        "id": "osppaVwBN8AU"
      },
      "source": [
        "**Gráfico de altura pela idade considerando o esporte Volei:**"
      ]
    },
    {
      "cell_type": "code",
      "execution_count": null,
      "metadata": {
        "colab": {
          "base_uri": "https://localhost:8080/",
          "height": 466
        },
        "id": "HAhbaxG2GLop",
        "outputId": "59d19469-951d-4ea5-d802-0a0c9adf0165"
      },
      "outputs": [],
      "source": [
        "olim[(olim['Sexo']=='M') &(olim['Esporte'] == 'Volleyball')].plot.scatter(x='Idade',y='Altura', c='DarkBlue')"
      ]
    },
    {
      "cell_type": "markdown",
      "metadata": {
        "id": "lN3yhnBROJCy"
      },
      "source": [
        "**Gráfico de altura pelo peso de todas as categorias:**"
      ]
    },
    {
      "cell_type": "code",
      "execution_count": null,
      "metadata": {
        "colab": {
          "base_uri": "https://localhost:8080/",
          "height": 466
        },
        "id": "hwDolth0GLop",
        "outputId": "c15e50b3-61bf-4cf6-aebc-83b8dffed09c"
      },
      "outputs": [],
      "source": [
        "olim[(olim['Sexo']=='M')].plot.scatter(x='Peso',y='Altura', c='DarkBlue')"
      ]
    },
    {
      "cell_type": "code",
      "execution_count": null,
      "metadata": {
        "colab": {
          "base_uri": "https://localhost:8080/"
        },
        "id": "kPTeARoEGLoq",
        "outputId": "1c4f1840-368c-42b3-ba49-c653779ab662"
      },
      "outputs": [],
      "source": [
        "olim['Esporte'].unique()"
      ]
    },
    {
      "cell_type": "markdown",
      "metadata": {
        "id": "kaHdVmkEOnjt"
      },
      "source": [
        "**Vamos considerar dois esportes: Volei e atletismo**"
      ]
    },
    {
      "cell_type": "code",
      "execution_count": null,
      "metadata": {
        "id": "9HHXlWsGGLor"
      },
      "outputs": [],
      "source": [
        "colorido = olim[(olim['Sexo']=='M') & ((olim['Esporte'] == 'Athletics') | (olim['Esporte'] == 'Volleyball'))]"
      ]
    },
    {
      "cell_type": "code",
      "execution_count": null,
      "metadata": {
        "colab": {
          "base_uri": "https://localhost:8080/"
        },
        "id": "9hFbOAG_PM_2",
        "outputId": "6c7c12b2-a22c-41f9-ddad-79cdbdf72eb8"
      },
      "outputs": [],
      "source": [
        "colorido['Esporte'].unique()"
      ]
    },
    {
      "cell_type": "code",
      "execution_count": null,
      "metadata": {
        "colab": {
          "base_uri": "https://localhost:8080/",
          "height": 466
        },
        "id": "IaXAmdpXGLot",
        "outputId": "21507ade-0e7d-4386-8d8e-ae5aa8b56822"
      },
      "outputs": [],
      "source": [
        "colorido.plot.scatter(x='Peso', y='Altura', c='DarkBlue')"
      ]
    },
    {
      "cell_type": "code",
      "execution_count": null,
      "metadata": {
        "colab": {
          "base_uri": "https://localhost:8080/",
          "height": 466
        },
        "id": "rPqcg7__GLou",
        "outputId": "083eb778-58aa-44c9-e831-3ce64056e478"
      },
      "outputs": [],
      "source": [
        "colormap = {'Volleyball':'blue','Athletics':'red'}\n",
        "cores = [colormap[x] for x in colorido['Esporte']]\n",
        "colorido.plot.scatter(x='Peso', y= 'Altura', color=cores)"
      ]
    },
    {
      "cell_type": "markdown",
      "metadata": {
        "id": "7PvMmfkyPpe3"
      },
      "source": [
        "**Adicionando mais um esporte: tenis**"
      ]
    },
    {
      "cell_type": "code",
      "execution_count": null,
      "metadata": {
        "id": "5-yFuUjKGLov"
      },
      "outputs": [],
      "source": [
        "colorido = olim[(olim['Sexo']=='M') & ((olim['Esporte'] == 'Athletics') | (olim['Esporte'] == 'Volleyball') | (olim['Esporte']=='Tennis'))]"
      ]
    },
    {
      "cell_type": "code",
      "execution_count": null,
      "metadata": {
        "colab": {
          "base_uri": "https://localhost:8080/",
          "height": 466
        },
        "id": "TzGTEyLMGLov",
        "outputId": "0a348aea-b239-4568-d042-067d0985b8aa"
      },
      "outputs": [],
      "source": [
        "colormap = {'Volleyball':'blue','Athletics':'red','Tennis':'green'}\n",
        "cores = [colormap[x] for x in colorido['Esporte']]\n",
        "colorido.plot.scatter(x='Peso', y= 'Altura', color=cores)"
      ]
    },
    {
      "cell_type": "markdown",
      "metadata": {
        "id": "ol7Gxe8pPwCM"
      },
      "source": [
        "**Alterando as cores:**"
      ]
    },
    {
      "cell_type": "code",
      "execution_count": null,
      "metadata": {
        "colab": {
          "base_uri": "https://localhost:8080/",
          "height": 466
        },
        "id": "tNiJS4dbGLow",
        "outputId": "ce962cb5-2cd3-44a8-8161-b359d0e72091"
      },
      "outputs": [],
      "source": [
        "colormap = {'Volleyball':'green','Athletics':'red','Tennis':'blue'}\n",
        "cores = [colormap[x] for x in colorido['Esporte']]\n",
        "colorido.plot.scatter(x='Peso', y= 'Altura', color=cores)"
      ]
    },
    {
      "cell_type": "code",
      "execution_count": null,
      "metadata": {
        "id": "s2HylHpQGLox"
      },
      "outputs": [],
      "source": [
        "import seaborn as sns"
      ]
    },
    {
      "cell_type": "markdown",
      "metadata": {
        "id": "0lsThIH4P6Cz"
      },
      "source": [
        "**Trabalhando com as alturas de cada esporte em conjunto:**"
      ]
    },
    {
      "cell_type": "code",
      "execution_count": null,
      "metadata": {
        "colab": {
          "base_uri": "https://localhost:8080/",
          "height": 466
        },
        "id": "7q94nbf_GLox",
        "outputId": "97245018-b7e0-4510-d952-20da3ca4b86e"
      },
      "outputs": [],
      "source": [
        "sns.stripplot(data=colorido, x='Esporte', y='Altura')"
      ]
    },
    {
      "cell_type": "markdown",
      "metadata": {
        "id": "oBETsPvXQ3xm"
      },
      "source": [
        "**Gráfico similar ao anterior porém com a distribuição no eixo x melhorada:**"
      ]
    },
    {
      "cell_type": "code",
      "execution_count": null,
      "metadata": {
        "colab": {
          "base_uri": "https://localhost:8080/",
          "height": 556
        },
        "id": "eC8g9PtSGLox",
        "outputId": "bb0197f6-ff88-40af-e39f-21b1bfca3e93"
      },
      "outputs": [],
      "source": [
        "sns.swarmplot(data=colorido, x='Esporte', y='Altura')"
      ]
    },
    {
      "cell_type": "markdown",
      "metadata": {
        "id": "-jJgikMxRCkF"
      },
      "source": [
        "**Gráfico de regressão linear:**"
      ]
    },
    {
      "cell_type": "code",
      "execution_count": null,
      "metadata": {
        "colab": {
          "base_uri": "https://localhost:8080/",
          "height": 544
        },
        "id": "1QlrNdGhGLoy",
        "outputId": "2ba93c26-7a41-4a35-a23b-13a29dcc0af3"
      },
      "outputs": [],
      "source": [
        "sns.lmplot(data=colorido, x='Peso', y='Altura', hue='Esporte', col='Esporte')"
      ]
    },
    {
      "cell_type": "markdown",
      "metadata": {
        "id": "nXRDkoFpRYJ5"
      },
      "source": [
        "**Gráfico comparativo das informações:**"
      ]
    },
    {
      "cell_type": "code",
      "execution_count": null,
      "metadata": {
        "colab": {
          "base_uri": "https://localhost:8080/",
          "height": 1000
        },
        "id": "cmV1Wr7IGLoy",
        "outputId": "07f4ba01-1ef0-4ebd-d3b8-4edc0e70426d"
      },
      "outputs": [],
      "source": [
        "sns.pairplot(colorido, hue='Esporte')"
      ]
    },
    {
      "cell_type": "markdown",
      "metadata": {
        "id": "tydC7i1WRmEv"
      },
      "source": [
        "**Gráfico de distribuição ao longo dos anos:**\n",
        "\n",
        "O Seaborn Displot também pode ser combinado com o Kernel Density Estimate Plot para estimar a probabilidade de distribuição de variáveis contínuas em vários valores de dados. O parâmetro kde é definido como True para habilitar o gráfico de densidade do kernel junto com o displot"
      ]
    },
    {
      "cell_type": "code",
      "execution_count": null,
      "metadata": {
        "colab": {
          "base_uri": "https://localhost:8080/",
          "height": 523
        },
        "id": "gw2XA44DGLo0",
        "outputId": "b52db33b-33fa-48ec-d189-5552d8b648d1"
      },
      "outputs": [],
      "source": [
        "sns.displot(colorido['Altura'], kde=False)"
      ]
    },
    {
      "cell_type": "code",
      "execution_count": null,
      "metadata": {
        "colab": {
          "base_uri": "https://localhost:8080/",
          "height": 523
        },
        "id": "EnFB8p_fGLo1",
        "outputId": "57c58f1e-9a2e-4037-9e77-7ae42f1ba84c"
      },
      "outputs": [],
      "source": [
        "sns.displot(colorido['Altura'], kde=True)"
      ]
    },
    {
      "cell_type": "code",
      "execution_count": null,
      "metadata": {
        "colab": {
          "base_uri": "https://localhost:8080/",
          "height": 466
        },
        "id": "_edkFwXiGLo1",
        "outputId": "2c8edee7-0fca-4b6a-ca77-121ce1f65458"
      },
      "outputs": [],
      "source": [
        "sns.boxplot(data=colorido, x='Esporte', y='Altura')"
      ]
    }
  ],
  "metadata": {
    "colab": {
      "provenance": []
    },
    "kernelspec": {
      "display_name": "Python 3",
      "language": "python",
      "name": "python3"
    },
    "language_info": {
      "codemirror_mode": {
        "name": "ipython",
        "version": 3
      },
      "file_extension": ".py",
      "mimetype": "text/x-python",
      "name": "python",
      "nbconvert_exporter": "python",
      "pygments_lexer": "ipython3",
      "version": "3.11.3"
    }
  },
  "nbformat": 4,
  "nbformat_minor": 0
}
